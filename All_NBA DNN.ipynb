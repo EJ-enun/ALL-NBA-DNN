{
 "cells": [
  {
   "cell_type": "code",
   "execution_count": 1,
   "metadata": {},
   "outputs": [],
   "source": [
    "#Import Libraries\n",
    "\n",
    "import pandas as pd\n",
    "import numpy as np\n",
    "import seaborn as sns\n",
    "import matplotlib.pyplot as plt\n",
    "import re\n",
    "plt.style.use('fivethirtyeight')"
   ]
  },
  {
   "cell_type": "markdown",
   "metadata": {},
   "source": [
    "### Read All-NBA data from Wikipedia"
   ]
  },
  {
   "cell_type": "code",
   "execution_count": 2,
   "metadata": {},
   "outputs": [],
   "source": [
    "df = pd.read_html('https://en.wikipedia.org/wiki/All-NBA_Team', header=None)"
   ]
  },
  {
   "cell_type": "code",
   "execution_count": 3,
   "metadata": {},
   "outputs": [],
   "source": [
    "df = df[7]"
   ]
  },
  {
   "cell_type": "code",
   "execution_count": 4,
   "metadata": {
    "scrolled": true
   },
   "outputs": [
    {
     "data": {
      "text/html": [
       "<div>\n",
       "<style scoped>\n",
       "    .dataframe tbody tr th:only-of-type {\n",
       "        vertical-align: middle;\n",
       "    }\n",
       "\n",
       "    .dataframe tbody tr th {\n",
       "        vertical-align: top;\n",
       "    }\n",
       "\n",
       "    .dataframe thead tr th {\n",
       "        text-align: left;\n",
       "    }\n",
       "</style>\n",
       "<table border=\"1\" class=\"dataframe\">\n",
       "  <thead>\n",
       "    <tr>\n",
       "      <th></th>\n",
       "      <th>Season</th>\n",
       "      <th colspan=\"2\" halign=\"left\">First team</th>\n",
       "      <th colspan=\"2\" halign=\"left\">Second team</th>\n",
       "      <th colspan=\"2\" halign=\"left\">Third team</th>\n",
       "    </tr>\n",
       "    <tr>\n",
       "      <th></th>\n",
       "      <th>Season</th>\n",
       "      <th>Players</th>\n",
       "      <th>Teams</th>\n",
       "      <th>Players</th>\n",
       "      <th>Teams</th>\n",
       "      <th>Players</th>\n",
       "      <th>Teams</th>\n",
       "    </tr>\n",
       "  </thead>\n",
       "  <tbody>\n",
       "    <tr>\n",
       "      <th>0</th>\n",
       "      <td>1988–89</td>\n",
       "      <td>Karl Malone* (2)</td>\n",
       "      <td>Utah Jazz</td>\n",
       "      <td>Tom Chambers</td>\n",
       "      <td>Phoenix Suns</td>\n",
       "      <td>Dominique Wilkins* (4)</td>\n",
       "      <td>Atlanta Hawks</td>\n",
       "    </tr>\n",
       "    <tr>\n",
       "      <th>1</th>\n",
       "      <td>1988–89</td>\n",
       "      <td>Charles Barkley* (4)</td>\n",
       "      <td>Philadelphia 76ers</td>\n",
       "      <td>Chris Mullin*</td>\n",
       "      <td>Golden State Warriors</td>\n",
       "      <td>Terry Cummings (2)</td>\n",
       "      <td>Milwaukee Bucks</td>\n",
       "    </tr>\n",
       "    <tr>\n",
       "      <th>2</th>\n",
       "      <td>1988–89</td>\n",
       "      <td>Akeem Olajuwon* (4)[c]</td>\n",
       "      <td>Houston Rockets</td>\n",
       "      <td>Patrick Ewing* (2)</td>\n",
       "      <td>New York Knicks</td>\n",
       "      <td>Robert Parish* (2)</td>\n",
       "      <td>Boston Celtics</td>\n",
       "    </tr>\n",
       "    <tr>\n",
       "      <th>3</th>\n",
       "      <td>1988–89</td>\n",
       "      <td>Michael Jordan* (4)</td>\n",
       "      <td>Chicago Bulls</td>\n",
       "      <td>John Stockton* (2)</td>\n",
       "      <td>Utah Jazz</td>\n",
       "      <td>Dale Ellis</td>\n",
       "      <td>Seattle SuperSonics</td>\n",
       "    </tr>\n",
       "    <tr>\n",
       "      <th>4</th>\n",
       "      <td>1988–89</td>\n",
       "      <td>Magic Johnson* (8)</td>\n",
       "      <td>Los Angeles Lakers</td>\n",
       "      <td>Kevin Johnson</td>\n",
       "      <td>Phoenix Suns</td>\n",
       "      <td>Mark Price</td>\n",
       "      <td>Cleveland Cavaliers</td>\n",
       "    </tr>\n",
       "  </tbody>\n",
       "</table>\n",
       "</div>"
      ],
      "text/plain": [
       "    Season              First team                             Second team  \\\n",
       "    Season                 Players               Teams             Players   \n",
       "0  1988–89        Karl Malone* (2)           Utah Jazz        Tom Chambers   \n",
       "1  1988–89    Charles Barkley* (4)  Philadelphia 76ers       Chris Mullin*   \n",
       "2  1988–89  Akeem Olajuwon* (4)[c]     Houston Rockets  Patrick Ewing* (2)   \n",
       "3  1988–89     Michael Jordan* (4)       Chicago Bulls  John Stockton* (2)   \n",
       "4  1988–89      Magic Johnson* (8)  Los Angeles Lakers       Kevin Johnson   \n",
       "\n",
       "                                      Third team                       \n",
       "                   Teams                 Players                Teams  \n",
       "0           Phoenix Suns  Dominique Wilkins* (4)        Atlanta Hawks  \n",
       "1  Golden State Warriors      Terry Cummings (2)      Milwaukee Bucks  \n",
       "2        New York Knicks      Robert Parish* (2)       Boston Celtics  \n",
       "3              Utah Jazz              Dale Ellis  Seattle SuperSonics  \n",
       "4           Phoenix Suns              Mark Price  Cleveland Cavaliers  "
      ]
     },
     "execution_count": 4,
     "metadata": {},
     "output_type": "execute_result"
    }
   ],
   "source": [
    "df.head()"
   ]
  },
  {
   "cell_type": "markdown",
   "metadata": {},
   "source": [
    "### Cleanup All-NBA Data"
   ]
  },
  {
   "cell_type": "code",
   "execution_count": 5,
   "metadata": {},
   "outputs": [],
   "source": [
    "df.columns = df.columns.droplevel() # Drop first levl of header\n",
    "\n",
    "df.drop('Teams', axis = 1, inplace= True) # Drop the Team columns"
   ]
  },
  {
   "cell_type": "code",
   "execution_count": 6,
   "metadata": {},
   "outputs": [
    {
     "data": {
      "text/html": [
       "<div>\n",
       "<style scoped>\n",
       "    .dataframe tbody tr th:only-of-type {\n",
       "        vertical-align: middle;\n",
       "    }\n",
       "\n",
       "    .dataframe tbody tr th {\n",
       "        vertical-align: top;\n",
       "    }\n",
       "\n",
       "    .dataframe thead th {\n",
       "        text-align: right;\n",
       "    }\n",
       "</style>\n",
       "<table border=\"1\" class=\"dataframe\">\n",
       "  <thead>\n",
       "    <tr style=\"text-align: right;\">\n",
       "      <th></th>\n",
       "      <th>Season</th>\n",
       "      <th>Players</th>\n",
       "      <th>Players</th>\n",
       "      <th>Players</th>\n",
       "    </tr>\n",
       "  </thead>\n",
       "  <tbody>\n",
       "    <tr>\n",
       "      <th>0</th>\n",
       "      <td>1988–89</td>\n",
       "      <td>Karl Malone* (2)</td>\n",
       "      <td>Tom Chambers</td>\n",
       "      <td>Dominique Wilkins* (4)</td>\n",
       "    </tr>\n",
       "    <tr>\n",
       "      <th>1</th>\n",
       "      <td>1988–89</td>\n",
       "      <td>Charles Barkley* (4)</td>\n",
       "      <td>Chris Mullin*</td>\n",
       "      <td>Terry Cummings (2)</td>\n",
       "    </tr>\n",
       "    <tr>\n",
       "      <th>2</th>\n",
       "      <td>1988–89</td>\n",
       "      <td>Akeem Olajuwon* (4)[c]</td>\n",
       "      <td>Patrick Ewing* (2)</td>\n",
       "      <td>Robert Parish* (2)</td>\n",
       "    </tr>\n",
       "    <tr>\n",
       "      <th>3</th>\n",
       "      <td>1988–89</td>\n",
       "      <td>Michael Jordan* (4)</td>\n",
       "      <td>John Stockton* (2)</td>\n",
       "      <td>Dale Ellis</td>\n",
       "    </tr>\n",
       "    <tr>\n",
       "      <th>4</th>\n",
       "      <td>1988–89</td>\n",
       "      <td>Magic Johnson* (8)</td>\n",
       "      <td>Kevin Johnson</td>\n",
       "      <td>Mark Price</td>\n",
       "    </tr>\n",
       "  </tbody>\n",
       "</table>\n",
       "</div>"
      ],
      "text/plain": [
       "    Season                 Players             Players                 Players\n",
       "0  1988–89        Karl Malone* (2)        Tom Chambers  Dominique Wilkins* (4)\n",
       "1  1988–89    Charles Barkley* (4)       Chris Mullin*      Terry Cummings (2)\n",
       "2  1988–89  Akeem Olajuwon* (4)[c]  Patrick Ewing* (2)      Robert Parish* (2)\n",
       "3  1988–89     Michael Jordan* (4)  John Stockton* (2)              Dale Ellis\n",
       "4  1988–89      Magic Johnson* (8)       Kevin Johnson              Mark Price"
      ]
     },
     "execution_count": 6,
     "metadata": {},
     "output_type": "execute_result"
    }
   ],
   "source": [
    "df.head()"
   ]
  },
  {
   "cell_type": "code",
   "execution_count": 7,
   "metadata": {},
   "outputs": [],
   "source": [
    "df.columns = ['season', 'first_team', 'second_team', 'third_team' ]"
   ]
  },
  {
   "cell_type": "code",
   "execution_count": 8,
   "metadata": {},
   "outputs": [
    {
     "data": {
      "text/html": [
       "<div>\n",
       "<style scoped>\n",
       "    .dataframe tbody tr th:only-of-type {\n",
       "        vertical-align: middle;\n",
       "    }\n",
       "\n",
       "    .dataframe tbody tr th {\n",
       "        vertical-align: top;\n",
       "    }\n",
       "\n",
       "    .dataframe thead th {\n",
       "        text-align: right;\n",
       "    }\n",
       "</style>\n",
       "<table border=\"1\" class=\"dataframe\">\n",
       "  <thead>\n",
       "    <tr style=\"text-align: right;\">\n",
       "      <th></th>\n",
       "      <th>season</th>\n",
       "      <th>first_team</th>\n",
       "      <th>second_team</th>\n",
       "      <th>third_team</th>\n",
       "    </tr>\n",
       "  </thead>\n",
       "  <tbody>\n",
       "    <tr>\n",
       "      <th>0</th>\n",
       "      <td>1988–89</td>\n",
       "      <td>Karl Malone* (2)</td>\n",
       "      <td>Tom Chambers</td>\n",
       "      <td>Dominique Wilkins* (4)</td>\n",
       "    </tr>\n",
       "    <tr>\n",
       "      <th>1</th>\n",
       "      <td>1988–89</td>\n",
       "      <td>Charles Barkley* (4)</td>\n",
       "      <td>Chris Mullin*</td>\n",
       "      <td>Terry Cummings (2)</td>\n",
       "    </tr>\n",
       "    <tr>\n",
       "      <th>2</th>\n",
       "      <td>1988–89</td>\n",
       "      <td>Akeem Olajuwon* (4)[c]</td>\n",
       "      <td>Patrick Ewing* (2)</td>\n",
       "      <td>Robert Parish* (2)</td>\n",
       "    </tr>\n",
       "    <tr>\n",
       "      <th>3</th>\n",
       "      <td>1988–89</td>\n",
       "      <td>Michael Jordan* (4)</td>\n",
       "      <td>John Stockton* (2)</td>\n",
       "      <td>Dale Ellis</td>\n",
       "    </tr>\n",
       "    <tr>\n",
       "      <th>4</th>\n",
       "      <td>1988–89</td>\n",
       "      <td>Magic Johnson* (8)</td>\n",
       "      <td>Kevin Johnson</td>\n",
       "      <td>Mark Price</td>\n",
       "    </tr>\n",
       "  </tbody>\n",
       "</table>\n",
       "</div>"
      ],
      "text/plain": [
       "    season              first_team         second_team              third_team\n",
       "0  1988–89        Karl Malone* (2)        Tom Chambers  Dominique Wilkins* (4)\n",
       "1  1988–89    Charles Barkley* (4)       Chris Mullin*      Terry Cummings (2)\n",
       "2  1988–89  Akeem Olajuwon* (4)[c]  Patrick Ewing* (2)      Robert Parish* (2)\n",
       "3  1988–89     Michael Jordan* (4)  John Stockton* (2)              Dale Ellis\n",
       "4  1988–89      Magic Johnson* (8)       Kevin Johnson              Mark Price"
      ]
     },
     "execution_count": 8,
     "metadata": {},
     "output_type": "execute_result"
    }
   ],
   "source": [
    "df.head()"
   ]
  },
  {
   "cell_type": "code",
   "execution_count": 9,
   "metadata": {},
   "outputs": [],
   "source": [
    "#Strip () and [] from names\n",
    "\n",
    "df['first_team'] = df['first_team'].apply(lambda x: re.sub(r'\\([^)]*\\)', '', x)).apply(lambda x: re.sub(r'\\[[^)]*\\]', '', x)).apply(lambda x: x.replace('^', ''))\n",
    "df['second_team'] = df['second_team'].apply(lambda x: re.sub(r'\\([^)]*\\)', '', x)).apply(lambda x: re.sub(r'\\[[^)]*\\]', '', x)).apply(lambda x: x.replace('^', ''))\n",
    "df['third_team'] = df['third_team'].apply(lambda x: re.sub(r'\\([^)]*\\)', '', x)).apply(lambda x: re.sub(r'\\[[^)]*\\]', '', x)).apply(lambda x: x.replace('^', ''))"
   ]
  },
  {
   "cell_type": "code",
   "execution_count": 10,
   "metadata": {},
   "outputs": [
    {
     "data": {
      "text/html": [
       "<div>\n",
       "<style scoped>\n",
       "    .dataframe tbody tr th:only-of-type {\n",
       "        vertical-align: middle;\n",
       "    }\n",
       "\n",
       "    .dataframe tbody tr th {\n",
       "        vertical-align: top;\n",
       "    }\n",
       "\n",
       "    .dataframe thead th {\n",
       "        text-align: right;\n",
       "    }\n",
       "</style>\n",
       "<table border=\"1\" class=\"dataframe\">\n",
       "  <thead>\n",
       "    <tr style=\"text-align: right;\">\n",
       "      <th></th>\n",
       "      <th>season</th>\n",
       "      <th>first_team</th>\n",
       "      <th>second_team</th>\n",
       "      <th>third_team</th>\n",
       "    </tr>\n",
       "  </thead>\n",
       "  <tbody>\n",
       "    <tr>\n",
       "      <th>0</th>\n",
       "      <td>1988–89</td>\n",
       "      <td>Karl Malone*</td>\n",
       "      <td>Tom Chambers</td>\n",
       "      <td>Dominique Wilkins*</td>\n",
       "    </tr>\n",
       "    <tr>\n",
       "      <th>1</th>\n",
       "      <td>1988–89</td>\n",
       "      <td>Charles Barkley*</td>\n",
       "      <td>Chris Mullin*</td>\n",
       "      <td>Terry Cummings</td>\n",
       "    </tr>\n",
       "    <tr>\n",
       "      <th>2</th>\n",
       "      <td>1988–89</td>\n",
       "      <td>Akeem Olajuwon*</td>\n",
       "      <td>Patrick Ewing*</td>\n",
       "      <td>Robert Parish*</td>\n",
       "    </tr>\n",
       "    <tr>\n",
       "      <th>3</th>\n",
       "      <td>1988–89</td>\n",
       "      <td>Michael Jordan*</td>\n",
       "      <td>John Stockton*</td>\n",
       "      <td>Dale Ellis</td>\n",
       "    </tr>\n",
       "    <tr>\n",
       "      <th>4</th>\n",
       "      <td>1988–89</td>\n",
       "      <td>Magic Johnson*</td>\n",
       "      <td>Kevin Johnson</td>\n",
       "      <td>Mark Price</td>\n",
       "    </tr>\n",
       "  </tbody>\n",
       "</table>\n",
       "</div>"
      ],
      "text/plain": [
       "    season         first_team      second_team           third_team\n",
       "0  1988–89      Karl Malone*      Tom Chambers  Dominique Wilkins* \n",
       "1  1988–89  Charles Barkley*     Chris Mullin*      Terry Cummings \n",
       "2  1988–89   Akeem Olajuwon*   Patrick Ewing*       Robert Parish* \n",
       "3  1988–89   Michael Jordan*   John Stockton*            Dale Ellis\n",
       "4  1988–89    Magic Johnson*     Kevin Johnson           Mark Price"
      ]
     },
     "execution_count": 10,
     "metadata": {},
     "output_type": "execute_result"
    }
   ],
   "source": [
    "df.head()"
   ]
  },
  {
   "cell_type": "markdown",
   "metadata": {},
   "source": [
    "### Data Engineering to prepare for Machine Learning"
   ]
  },
  {
   "cell_type": "code",
   "execution_count": 11,
   "metadata": {},
   "outputs": [],
   "source": [
    "df['1st'] = '1st'\n",
    "df['2nd'] = '2nd'\n",
    "df['3rd'] = '3rd' "
   ]
  },
  {
   "cell_type": "code",
   "execution_count": 12,
   "metadata": {},
   "outputs": [],
   "source": [
    "df1st = pd.DataFrame()\n",
    "df2nd = pd.DataFrame()\n",
    "df3rd = pd.DataFrame()\n",
    "df1st[['season', 'player', 'all_nba_team']] = df[['season', 'first_team', '1st']]\n",
    "df2nd[['season', 'player', 'all_nba_team']] = df[['season', 'second_team', '2nd']]\n",
    "df3rd[['season', 'player', 'all_nba_team']] = df[['season', 'third_team', '3rd']]"
   ]
  },
  {
   "cell_type": "code",
   "execution_count": 13,
   "metadata": {},
   "outputs": [],
   "source": [
    "all_nba_df = df1st.append([df2nd, df3rd], ignore_index=True)"
   ]
  },
  {
   "cell_type": "code",
   "execution_count": 14,
   "metadata": {},
   "outputs": [
    {
     "data": {
      "text/html": [
       "<div>\n",
       "<style scoped>\n",
       "    .dataframe tbody tr th:only-of-type {\n",
       "        vertical-align: middle;\n",
       "    }\n",
       "\n",
       "    .dataframe tbody tr th {\n",
       "        vertical-align: top;\n",
       "    }\n",
       "\n",
       "    .dataframe thead th {\n",
       "        text-align: right;\n",
       "    }\n",
       "</style>\n",
       "<table border=\"1\" class=\"dataframe\">\n",
       "  <thead>\n",
       "    <tr style=\"text-align: right;\">\n",
       "      <th></th>\n",
       "      <th>season</th>\n",
       "      <th>player</th>\n",
       "      <th>all_nba_team</th>\n",
       "    </tr>\n",
       "  </thead>\n",
       "  <tbody>\n",
       "    <tr>\n",
       "      <th>0</th>\n",
       "      <td>1988–89</td>\n",
       "      <td>Karl Malone*</td>\n",
       "      <td>1st</td>\n",
       "    </tr>\n",
       "    <tr>\n",
       "      <th>1</th>\n",
       "      <td>1988–89</td>\n",
       "      <td>Charles Barkley*</td>\n",
       "      <td>1st</td>\n",
       "    </tr>\n",
       "    <tr>\n",
       "      <th>2</th>\n",
       "      <td>1988–89</td>\n",
       "      <td>Akeem Olajuwon*</td>\n",
       "      <td>1st</td>\n",
       "    </tr>\n",
       "    <tr>\n",
       "      <th>3</th>\n",
       "      <td>1988–89</td>\n",
       "      <td>Michael Jordan*</td>\n",
       "      <td>1st</td>\n",
       "    </tr>\n",
       "    <tr>\n",
       "      <th>4</th>\n",
       "      <td>1988–89</td>\n",
       "      <td>Magic Johnson*</td>\n",
       "      <td>1st</td>\n",
       "    </tr>\n",
       "  </tbody>\n",
       "</table>\n",
       "</div>"
      ],
      "text/plain": [
       "    season             player all_nba_team\n",
       "0  1988–89      Karl Malone*           1st\n",
       "1  1988–89  Charles Barkley*           1st\n",
       "2  1988–89   Akeem Olajuwon*           1st\n",
       "3  1988–89   Michael Jordan*           1st\n",
       "4  1988–89    Magic Johnson*           1st"
      ]
     },
     "execution_count": 14,
     "metadata": {},
     "output_type": "execute_result"
    }
   ],
   "source": [
    "all_nba_df.head()"
   ]
  },
  {
   "cell_type": "markdown",
   "metadata": {},
   "source": [
    "### Further cleaning up ALL-NBA data "
   ]
  },
  {
   "cell_type": "code",
   "execution_count": 15,
   "metadata": {},
   "outputs": [
    {
     "data": {
      "text/html": [
       "<div>\n",
       "<style scoped>\n",
       "    .dataframe tbody tr th:only-of-type {\n",
       "        vertical-align: middle;\n",
       "    }\n",
       "\n",
       "    .dataframe tbody tr th {\n",
       "        vertical-align: top;\n",
       "    }\n",
       "\n",
       "    .dataframe thead th {\n",
       "        text-align: right;\n",
       "    }\n",
       "</style>\n",
       "<table border=\"1\" class=\"dataframe\">\n",
       "  <thead>\n",
       "    <tr style=\"text-align: right;\">\n",
       "      <th></th>\n",
       "      <th>season</th>\n",
       "      <th>player</th>\n",
       "      <th>all_nba_team</th>\n",
       "    </tr>\n",
       "  </thead>\n",
       "  <tbody>\n",
       "    <tr>\n",
       "      <th>0</th>\n",
       "      <td>1988-89</td>\n",
       "      <td>Karl Malone</td>\n",
       "      <td>1st</td>\n",
       "    </tr>\n",
       "    <tr>\n",
       "      <th>1</th>\n",
       "      <td>1988-89</td>\n",
       "      <td>Charles Barkley</td>\n",
       "      <td>1st</td>\n",
       "    </tr>\n",
       "    <tr>\n",
       "      <th>2</th>\n",
       "      <td>1988-89</td>\n",
       "      <td>Hakeem Olajuwon</td>\n",
       "      <td>1st</td>\n",
       "    </tr>\n",
       "    <tr>\n",
       "      <th>3</th>\n",
       "      <td>1988-89</td>\n",
       "      <td>Michael Jordan</td>\n",
       "      <td>1st</td>\n",
       "    </tr>\n",
       "    <tr>\n",
       "      <th>4</th>\n",
       "      <td>1988-89</td>\n",
       "      <td>Magic Johnson</td>\n",
       "      <td>1st</td>\n",
       "    </tr>\n",
       "  </tbody>\n",
       "</table>\n",
       "</div>"
      ],
      "text/plain": [
       "    season           player all_nba_team\n",
       "0  1988-89      Karl Malone          1st\n",
       "1  1988-89  Charles Barkley          1st\n",
       "2  1988-89  Hakeem Olajuwon          1st\n",
       "3  1988-89   Michael Jordan          1st\n",
       "4  1988-89    Magic Johnson          1st"
      ]
     },
     "execution_count": 15,
     "metadata": {},
     "output_type": "execute_result"
    }
   ],
   "source": [
    "def remove_trail_space(player):\n",
    "    if player[-1] == ' ':\n",
    "        player = player[0:-1]\n",
    "        return player\n",
    "    else:\n",
    "        return player\n",
    "    \n",
    "all_nba_df['player'] = all_nba_df['player'].apply(remove_trail_space)\n",
    "\n",
    "#Clean up players with dfferent names\n",
    "\n",
    "all_nba_df['season'] = all_nba_df['season'].apply(lambda x: x.replace('–', '-'))\n",
    "all_nba_df['player'] = all_nba_df['player'].apply(lambda x: x.replace('*', ''))\n",
    "\n",
    "all_nba_df['player'].loc[all_nba_df['player'] == 'Amare Stoudemire'] = 'Amar\\'e Stoudemire' \n",
    "\n",
    "all_nba_df['player'].loc[all_nba_df['player'] == 'Akeem Olajuwon'] = 'Hakeem Olajuwon'\n",
    "\n",
    "all_nba_df['player'].loc[all_nba_df['player'] == 'Penny Hardaway'] = 'Anfernee Hardaway'\n",
    "\n",
    "all_nba_df['player'].loc[all_nba_df['player'] == 'Ron Artest'] = 'Metta World Peace'\n",
    "\n",
    "all_nba_df.head()"
   ]
  },
  {
   "cell_type": "markdown",
   "metadata": {},
   "source": [
    "## Read historiacal NBA stats (1989 - 2020)"
   ]
  },
  {
   "cell_type": "code",
   "execution_count": 16,
   "metadata": {},
   "outputs": [],
   "source": [
    "nba_df = pd.read_csv('nba_data_scrape')"
   ]
  },
  {
   "cell_type": "code",
   "execution_count": 17,
   "metadata": {},
   "outputs": [
    {
     "data": {
      "text/html": [
       "<div>\n",
       "<style scoped>\n",
       "    .dataframe tbody tr th:only-of-type {\n",
       "        vertical-align: middle;\n",
       "    }\n",
       "\n",
       "    .dataframe tbody tr th {\n",
       "        vertical-align: top;\n",
       "    }\n",
       "\n",
       "    .dataframe thead th {\n",
       "        text-align: right;\n",
       "    }\n",
       "</style>\n",
       "<table border=\"1\" class=\"dataframe\">\n",
       "  <thead>\n",
       "    <tr style=\"text-align: right;\">\n",
       "      <th></th>\n",
       "      <th>player</th>\n",
       "      <th>age</th>\n",
       "      <th>tm</th>\n",
       "      <th>season_start</th>\n",
       "      <th>season</th>\n",
       "      <th>g</th>\n",
       "      <th>gs</th>\n",
       "      <th>mp</th>\n",
       "      <th>fg</th>\n",
       "      <th>fga</th>\n",
       "      <th>...</th>\n",
       "      <th>obpm</th>\n",
       "      <th>dbpm</th>\n",
       "      <th>bpm</th>\n",
       "      <th>vorp</th>\n",
       "      <th>debut</th>\n",
       "      <th>years_pro</th>\n",
       "      <th>player_id</th>\n",
       "      <th>salary</th>\n",
       "      <th>salary cap</th>\n",
       "      <th>%_of_cap</th>\n",
       "    </tr>\n",
       "  </thead>\n",
       "  <tbody>\n",
       "    <tr>\n",
       "      <th>0</th>\n",
       "      <td>Steven Adams</td>\n",
       "      <td>26</td>\n",
       "      <td>OKC</td>\n",
       "      <td>2019</td>\n",
       "      <td>2019-20</td>\n",
       "      <td>58</td>\n",
       "      <td>58</td>\n",
       "      <td>1564</td>\n",
       "      <td>262</td>\n",
       "      <td>443</td>\n",
       "      <td>...</td>\n",
       "      <td>2.1</td>\n",
       "      <td>1.1</td>\n",
       "      <td>3.2</td>\n",
       "      <td>2.0</td>\n",
       "      <td>2013</td>\n",
       "      <td>7</td>\n",
       "      <td>stevenadams</td>\n",
       "      <td>25842700.0</td>\n",
       "      <td>109140000.0</td>\n",
       "      <td>0.236785</td>\n",
       "    </tr>\n",
       "    <tr>\n",
       "      <th>1</th>\n",
       "      <td>Bam Adebayo</td>\n",
       "      <td>22</td>\n",
       "      <td>MIA</td>\n",
       "      <td>2019</td>\n",
       "      <td>2019-20</td>\n",
       "      <td>65</td>\n",
       "      <td>65</td>\n",
       "      <td>2235</td>\n",
       "      <td>408</td>\n",
       "      <td>719</td>\n",
       "      <td>...</td>\n",
       "      <td>1.6</td>\n",
       "      <td>2.1</td>\n",
       "      <td>3.6</td>\n",
       "      <td>3.2</td>\n",
       "      <td>2017</td>\n",
       "      <td>3</td>\n",
       "      <td>bamadebayo</td>\n",
       "      <td>3454080.0</td>\n",
       "      <td>109140000.0</td>\n",
       "      <td>0.031648</td>\n",
       "    </tr>\n",
       "    <tr>\n",
       "      <th>2</th>\n",
       "      <td>LaMarcus Aldridge</td>\n",
       "      <td>34</td>\n",
       "      <td>SAS</td>\n",
       "      <td>2019</td>\n",
       "      <td>2019-20</td>\n",
       "      <td>53</td>\n",
       "      <td>53</td>\n",
       "      <td>1754</td>\n",
       "      <td>391</td>\n",
       "      <td>793</td>\n",
       "      <td>...</td>\n",
       "      <td>1.8</td>\n",
       "      <td>-0.5</td>\n",
       "      <td>1.3</td>\n",
       "      <td>1.5</td>\n",
       "      <td>2006</td>\n",
       "      <td>14</td>\n",
       "      <td>lamarcusaldridge</td>\n",
       "      <td>26000000.0</td>\n",
       "      <td>109140000.0</td>\n",
       "      <td>0.238226</td>\n",
       "    </tr>\n",
       "    <tr>\n",
       "      <th>3</th>\n",
       "      <td>Nickeil Alexander-Walker</td>\n",
       "      <td>21</td>\n",
       "      <td>NOP</td>\n",
       "      <td>2019</td>\n",
       "      <td>2019-20</td>\n",
       "      <td>41</td>\n",
       "      <td>0</td>\n",
       "      <td>501</td>\n",
       "      <td>77</td>\n",
       "      <td>227</td>\n",
       "      <td>...</td>\n",
       "      <td>-3.5</td>\n",
       "      <td>-1.4</td>\n",
       "      <td>-4.9</td>\n",
       "      <td>-0.4</td>\n",
       "      <td>2019</td>\n",
       "      <td>1</td>\n",
       "      <td>nickeilalexanderwalker</td>\n",
       "      <td>2964840.0</td>\n",
       "      <td>109140000.0</td>\n",
       "      <td>0.027165</td>\n",
       "    </tr>\n",
       "    <tr>\n",
       "      <th>4</th>\n",
       "      <td>Grayson Allen</td>\n",
       "      <td>24</td>\n",
       "      <td>MEM</td>\n",
       "      <td>2019</td>\n",
       "      <td>2019-20</td>\n",
       "      <td>30</td>\n",
       "      <td>0</td>\n",
       "      <td>498</td>\n",
       "      <td>79</td>\n",
       "      <td>176</td>\n",
       "      <td>...</td>\n",
       "      <td>-1.0</td>\n",
       "      <td>-1.5</td>\n",
       "      <td>-2.6</td>\n",
       "      <td>-0.1</td>\n",
       "      <td>2018</td>\n",
       "      <td>2</td>\n",
       "      <td>graysonallen</td>\n",
       "      <td>2429400.0</td>\n",
       "      <td>109140000.0</td>\n",
       "      <td>0.022260</td>\n",
       "    </tr>\n",
       "  </tbody>\n",
       "</table>\n",
       "<p>5 rows × 58 columns</p>\n",
       "</div>"
      ],
      "text/plain": [
       "                     player  age   tm  season_start   season   g  gs    mp  \\\n",
       "0              Steven Adams   26  OKC          2019  2019-20  58  58  1564   \n",
       "1               Bam Adebayo   22  MIA          2019  2019-20  65  65  2235   \n",
       "2         LaMarcus Aldridge   34  SAS          2019  2019-20  53  53  1754   \n",
       "3  Nickeil Alexander-Walker   21  NOP          2019  2019-20  41   0   501   \n",
       "4             Grayson Allen   24  MEM          2019  2019-20  30   0   498   \n",
       "\n",
       "    fg  fga  ...  obpm  dbpm  bpm  vorp  debut  years_pro  \\\n",
       "0  262  443  ...   2.1   1.1  3.2   2.0   2013          7   \n",
       "1  408  719  ...   1.6   2.1  3.6   3.2   2017          3   \n",
       "2  391  793  ...   1.8  -0.5  1.3   1.5   2006         14   \n",
       "3   77  227  ...  -3.5  -1.4 -4.9  -0.4   2019          1   \n",
       "4   79  176  ...  -1.0  -1.5 -2.6  -0.1   2018          2   \n",
       "\n",
       "                player_id      salary   salary cap  %_of_cap  \n",
       "0             stevenadams  25842700.0  109140000.0  0.236785  \n",
       "1              bamadebayo   3454080.0  109140000.0  0.031648  \n",
       "2        lamarcusaldridge  26000000.0  109140000.0  0.238226  \n",
       "3  nickeilalexanderwalker   2964840.0  109140000.0  0.027165  \n",
       "4            graysonallen   2429400.0  109140000.0  0.022260  \n",
       "\n",
       "[5 rows x 58 columns]"
      ]
     },
     "execution_count": 17,
     "metadata": {},
     "output_type": "execute_result"
    }
   ],
   "source": [
    "nba_df.head()"
   ]
  },
  {
   "cell_type": "markdown",
   "metadata": {},
   "source": [
    "### Add per game statitics to Dataframe (pts/g, ast/g, etc.)"
   ]
  },
  {
   "cell_type": "code",
   "execution_count": 18,
   "metadata": {},
   "outputs": [],
   "source": [
    "columns = ['mp', 'orb', 'drb', 'trb',\n",
    "       'ast', 'stl', 'blk', 'tov', 'pf', 'pts']\n",
    "for column in columns:\n",
    "    nba_df[column+'/g'] = round(nba_df[column]/nba_df.g, 1)"
   ]
  },
  {
   "cell_type": "markdown",
   "metadata": {},
   "source": [
    "### Merge Databases"
   ]
  },
  {
   "cell_type": "code",
   "execution_count": 19,
   "metadata": {},
   "outputs": [],
   "source": [
    "nba_df = pd.merge(nba_df, all_nba_df, how = 'left', on = ['player', 'season'])"
   ]
  },
  {
   "cell_type": "code",
   "execution_count": 20,
   "metadata": {},
   "outputs": [
    {
     "data": {
      "text/html": [
       "<div>\n",
       "<style scoped>\n",
       "    .dataframe tbody tr th:only-of-type {\n",
       "        vertical-align: middle;\n",
       "    }\n",
       "\n",
       "    .dataframe tbody tr th {\n",
       "        vertical-align: top;\n",
       "    }\n",
       "\n",
       "    .dataframe thead th {\n",
       "        text-align: right;\n",
       "    }\n",
       "</style>\n",
       "<table border=\"1\" class=\"dataframe\">\n",
       "  <thead>\n",
       "    <tr style=\"text-align: right;\">\n",
       "      <th></th>\n",
       "      <th>player</th>\n",
       "      <th>age</th>\n",
       "      <th>tm</th>\n",
       "      <th>season_start</th>\n",
       "      <th>season</th>\n",
       "      <th>g</th>\n",
       "      <th>gs</th>\n",
       "      <th>mp</th>\n",
       "      <th>fg</th>\n",
       "      <th>fga</th>\n",
       "      <th>...</th>\n",
       "      <th>orb/g</th>\n",
       "      <th>drb/g</th>\n",
       "      <th>trb/g</th>\n",
       "      <th>ast/g</th>\n",
       "      <th>stl/g</th>\n",
       "      <th>blk/g</th>\n",
       "      <th>tov/g</th>\n",
       "      <th>pf/g</th>\n",
       "      <th>pts/g</th>\n",
       "      <th>all_nba_team</th>\n",
       "    </tr>\n",
       "  </thead>\n",
       "  <tbody>\n",
       "    <tr>\n",
       "      <th>0</th>\n",
       "      <td>Steven Adams</td>\n",
       "      <td>26</td>\n",
       "      <td>OKC</td>\n",
       "      <td>2019</td>\n",
       "      <td>2019-20</td>\n",
       "      <td>58</td>\n",
       "      <td>58</td>\n",
       "      <td>1564</td>\n",
       "      <td>262</td>\n",
       "      <td>443</td>\n",
       "      <td>...</td>\n",
       "      <td>3.4</td>\n",
       "      <td>6.0</td>\n",
       "      <td>9.4</td>\n",
       "      <td>2.4</td>\n",
       "      <td>0.9</td>\n",
       "      <td>1.1</td>\n",
       "      <td>1.5</td>\n",
       "      <td>1.9</td>\n",
       "      <td>10.9</td>\n",
       "      <td>NaN</td>\n",
       "    </tr>\n",
       "    <tr>\n",
       "      <th>1</th>\n",
       "      <td>Bam Adebayo</td>\n",
       "      <td>22</td>\n",
       "      <td>MIA</td>\n",
       "      <td>2019</td>\n",
       "      <td>2019-20</td>\n",
       "      <td>65</td>\n",
       "      <td>65</td>\n",
       "      <td>2235</td>\n",
       "      <td>408</td>\n",
       "      <td>719</td>\n",
       "      <td>...</td>\n",
       "      <td>2.5</td>\n",
       "      <td>8.0</td>\n",
       "      <td>10.5</td>\n",
       "      <td>5.1</td>\n",
       "      <td>1.2</td>\n",
       "      <td>1.3</td>\n",
       "      <td>2.8</td>\n",
       "      <td>2.5</td>\n",
       "      <td>16.2</td>\n",
       "      <td>NaN</td>\n",
       "    </tr>\n",
       "    <tr>\n",
       "      <th>2</th>\n",
       "      <td>LaMarcus Aldridge</td>\n",
       "      <td>34</td>\n",
       "      <td>SAS</td>\n",
       "      <td>2019</td>\n",
       "      <td>2019-20</td>\n",
       "      <td>53</td>\n",
       "      <td>53</td>\n",
       "      <td>1754</td>\n",
       "      <td>391</td>\n",
       "      <td>793</td>\n",
       "      <td>...</td>\n",
       "      <td>1.9</td>\n",
       "      <td>5.5</td>\n",
       "      <td>7.4</td>\n",
       "      <td>2.4</td>\n",
       "      <td>0.7</td>\n",
       "      <td>1.6</td>\n",
       "      <td>1.4</td>\n",
       "      <td>2.4</td>\n",
       "      <td>18.9</td>\n",
       "      <td>NaN</td>\n",
       "    </tr>\n",
       "    <tr>\n",
       "      <th>3</th>\n",
       "      <td>Nickeil Alexander-Walker</td>\n",
       "      <td>21</td>\n",
       "      <td>NOP</td>\n",
       "      <td>2019</td>\n",
       "      <td>2019-20</td>\n",
       "      <td>41</td>\n",
       "      <td>0</td>\n",
       "      <td>501</td>\n",
       "      <td>77</td>\n",
       "      <td>227</td>\n",
       "      <td>...</td>\n",
       "      <td>0.2</td>\n",
       "      <td>1.8</td>\n",
       "      <td>2.0</td>\n",
       "      <td>1.8</td>\n",
       "      <td>0.3</td>\n",
       "      <td>0.2</td>\n",
       "      <td>1.0</td>\n",
       "      <td>1.1</td>\n",
       "      <td>5.1</td>\n",
       "      <td>NaN</td>\n",
       "    </tr>\n",
       "    <tr>\n",
       "      <th>4</th>\n",
       "      <td>Grayson Allen</td>\n",
       "      <td>24</td>\n",
       "      <td>MEM</td>\n",
       "      <td>2019</td>\n",
       "      <td>2019-20</td>\n",
       "      <td>30</td>\n",
       "      <td>0</td>\n",
       "      <td>498</td>\n",
       "      <td>79</td>\n",
       "      <td>176</td>\n",
       "      <td>...</td>\n",
       "      <td>0.2</td>\n",
       "      <td>2.0</td>\n",
       "      <td>2.2</td>\n",
       "      <td>1.4</td>\n",
       "      <td>0.2</td>\n",
       "      <td>0.0</td>\n",
       "      <td>0.8</td>\n",
       "      <td>1.2</td>\n",
       "      <td>7.4</td>\n",
       "      <td>NaN</td>\n",
       "    </tr>\n",
       "  </tbody>\n",
       "</table>\n",
       "<p>5 rows × 69 columns</p>\n",
       "</div>"
      ],
      "text/plain": [
       "                     player  age   tm  season_start   season   g  gs    mp  \\\n",
       "0              Steven Adams   26  OKC          2019  2019-20  58  58  1564   \n",
       "1               Bam Adebayo   22  MIA          2019  2019-20  65  65  2235   \n",
       "2         LaMarcus Aldridge   34  SAS          2019  2019-20  53  53  1754   \n",
       "3  Nickeil Alexander-Walker   21  NOP          2019  2019-20  41   0   501   \n",
       "4             Grayson Allen   24  MEM          2019  2019-20  30   0   498   \n",
       "\n",
       "    fg  fga  ...  orb/g  drb/g  trb/g  ast/g  stl/g  blk/g  tov/g  pf/g  \\\n",
       "0  262  443  ...    3.4    6.0    9.4    2.4    0.9    1.1    1.5   1.9   \n",
       "1  408  719  ...    2.5    8.0   10.5    5.1    1.2    1.3    2.8   2.5   \n",
       "2  391  793  ...    1.9    5.5    7.4    2.4    0.7    1.6    1.4   2.4   \n",
       "3   77  227  ...    0.2    1.8    2.0    1.8    0.3    0.2    1.0   1.1   \n",
       "4   79  176  ...    0.2    2.0    2.2    1.4    0.2    0.0    0.8   1.2   \n",
       "\n",
       "   pts/g  all_nba_team  \n",
       "0   10.9           NaN  \n",
       "1   16.2           NaN  \n",
       "2   18.9           NaN  \n",
       "3    5.1           NaN  \n",
       "4    7.4           NaN  \n",
       "\n",
       "[5 rows x 69 columns]"
      ]
     },
     "execution_count": 20,
     "metadata": {},
     "output_type": "execute_result"
    }
   ],
   "source": [
    "nba_df.head()"
   ]
  },
  {
   "cell_type": "markdown",
   "metadata": {},
   "source": [
    "### Replace non-winners (NAN) with NO"
   ]
  },
  {
   "cell_type": "code",
   "execution_count": 21,
   "metadata": {},
   "outputs": [],
   "source": [
    "nba_df.all_nba_team.fillna('no', inplace = True)"
   ]
  },
  {
   "cell_type": "markdown",
   "metadata": {},
   "source": [
    "# Data Visualization "
   ]
  },
  {
   "cell_type": "code",
   "execution_count": 22,
   "metadata": {},
   "outputs": [
    {
     "data": {
      "text/plain": [
       "[Text(0, 0, 'N/A'), Text(0, 0, '1st'), Text(0, 0, '2nd'), Text(0, 0, '3rd')]"
      ]
     },
     "execution_count": 22,
     "metadata": {},
     "output_type": "execute_result"
    },
    {
     "data": {
      "image/png": "[encoded data removed]",
      "text/plain": [
       "<Figure size 432x288 with 1 Axes>"
      ]
     },
     "metadata": {},
     "output_type": "display_data"
    }
   ],
   "source": [
    "c = sns.countplot(x = 'all_nba_team', data = nba_df)\n",
    "plt.xlabel('All-NBA Team')\n",
    "c.set_xticklabels(['N/A', '1st', '2nd', '3rd'])"
   ]
  },
  {
   "cell_type": "markdown",
   "metadata": {},
   "source": [
    "Data is heavily skewed towards non-winners. This make sense as there are only 15 All-NBA recipients per year "
   ]
  },
  {
   "cell_type": "code",
   "execution_count": 23,
   "metadata": {},
   "outputs": [
    {
     "data": {
      "image/png": "[encoded data removed]",
      "text/plain": [
       "<Figure size 1044.68x576 with 1 Axes>"
      ]
     },
     "metadata": {},
     "output_type": "display_data"
    }
   ],
   "source": [
    "g = sns.FacetGrid(nba_df, hue = \"all_nba_team\", height = 8, aspect = 1.6)\n",
    "g = g.map(sns.kdeplot, \"ws\", shade = True).add_legend()\n",
    "plt.xlabel('Win Shares', fontsize = 30)\n",
    "plt.ylabel('Distribution Density', fontsize = 30)\n",
    "g._legend.set_title(\"All-NBA Team\")\n",
    "plt.xticks(fontsize = 20)\n",
    "plt.yticks(fontsize = 20)\n",
    "# replace labels\n",
    "new_labels = ['Non-winner', '1st Team', '2nd Team', '3rd Team']\n",
    "for t, l in zip(g._legend.texts, new_labels): t.set_text(l)\n"
   ]
  },
  {
   "cell_type": "code",
   "execution_count": 24,
   "metadata": {},
   "outputs": [
    {
     "data": {
      "image/png": "[encoded data removed]",
      "text/plain": [
       "<Figure size 1044.68x576 with 1 Axes>"
      ]
     },
     "metadata": {},
     "output_type": "display_data"
    }
   ],
   "source": [
    "g = sns.FacetGrid(nba_df, hue = \"all_nba_team\", height = 8, aspect = 1.6)\n",
    "g = g.map(sns.kdeplot, \"mp\", shade = True).add_legend()\n",
    "plt.xlabel('Win Shares', fontsize = 30)\n",
    "plt.ylabel('Total Minutes', fontsize = 30)\n",
    "g._legend.set_title(\"All-NBA Team\")\n",
    "plt.xticks(fontsize = 20)\n",
    "plt.yticks(fontsize = 20)\n",
    "# replace labels\n",
    "new_labels = ['Non-winner', '1st Team', '2nd Team', '3rd Team']\n",
    "for t, l in zip(g._legend.texts, new_labels): t.set_text(l)\n"
   ]
  },
  {
   "cell_type": "markdown",
   "metadata": {},
   "source": [
    "We will use a cutoff of win share > 4.6 and total minutes played as 1400. We lo"
   ]
  },
  {
   "cell_type": "code",
   "execution_count": 25,
   "metadata": {},
   "outputs": [
    {
     "data": {
      "text/plain": [
       "<matplotlib.axes._subplots.AxesSubplot at 0x1a2b10dfd0>"
      ]
     },
     "execution_count": 25,
     "metadata": {},
     "output_type": "execute_result"
    },
    {
     "data": {
      "image/png": "[encoded data removed]",
      "text/plain": [
       "<Figure size 432x288 with 1 Axes>"
      ]
     },
     "metadata": {},
     "output_type": "display_data"
    }
   ],
   "source": [
    "sns.countplot(x = 'all_nba_team', data = nba_df[nba_df.ws > 4.65])"
   ]
  },
  {
   "cell_type": "code",
   "execution_count": 26,
   "metadata": {},
   "outputs": [
    {
     "data": {
      "text/plain": [
       "all_nba_team\n",
       "1st     150\n",
       "2nd     150\n",
       "3rd     150\n",
       "no     3489\n",
       "Name: player, dtype: int64"
      ]
     },
     "execution_count": 26,
     "metadata": {},
     "output_type": "execute_result"
    }
   ],
   "source": [
    "nba_df[(nba_df.ws > 3.4) & (nba_df.mp > 1400) & (nba_df.season != '2019-20')].groupby('all_nba_team')['player'].count()"
   ]
  },
  {
   "cell_type": "code",
   "execution_count": 27,
   "metadata": {},
   "outputs": [],
   "source": [
    "df = nba_df[(nba_df.ws > 3.4) & (nba_df.mp > 1400)& (nba_df.season != '2019-20')]"
   ]
  },
  {
   "cell_type": "markdown",
   "metadata": {},
   "source": [
    "## Import Machine Learning Libraries"
   ]
  },
  {
   "cell_type": "code",
   "execution_count": 28,
   "metadata": {},
   "outputs": [],
   "source": [
    "from tensorflow.keras.models import Sequential\n",
    "from tensorflow.keras.layers import Dense, Dropout\n",
    "from tensorflow.keras.wrappers.scikit_learn import KerasClassifier\n",
    "from sklearn.metrics import mean_absolute_error, mean_squared_error, r2_score\n",
    "from sklearn.preprocessing import MinMaxScaler\n",
    "from sklearn.model_selection import train_test_split, GridSearchCV, KFold, cross_val_score\n",
    "from sklearn.preprocessing import LabelEncoder"
   ]
  },
  {
   "cell_type": "markdown",
   "metadata": {},
   "source": [
    "### Split dataset into Training and Testing sets"
   ]
  },
  {
   "cell_type": "code",
   "execution_count": 29,
   "metadata": {},
   "outputs": [],
   "source": [
    "# Select features\n",
    "features = ['g','fg','2p', '3p', 'ft', 'ts%', 'per', 'ws',\n",
    "            'bpm', 'vorp','mp/g', 'orb/g', 'drb/g', 'trb/g',\n",
    "            'ast/g', 'stl/g', 'blk/g', 'pts/g']"
   ]
  },
  {
   "cell_type": "code",
   "execution_count": 91,
   "metadata": {},
   "outputs": [],
   "source": [
    "X = df[features].values\n",
    "\n",
    "y = df['all_nba_team']\n",
    "y_dummy = pd.get_dummies(y).values # One hot encode target variable\n",
    "\n",
    "X_train, X_test, y_train, y_test = train_test_split(X, y_dummy, test_size=0.30)\n",
    "\n",
    "# Scale the Data\n",
    "scaler = MinMaxScaler()\n",
    "X_train = scaler.fit_transform(X_train)\n",
    "X_test = scaler.transform(X_test)"
   ]
  },
  {
   "cell_type": "code",
   "execution_count": 92,
   "metadata": {},
   "outputs": [],
   "source": [
    "def model_build(neurons, activation, h_layers, loss):\n",
    "    # Create model\n",
    "   \n",
    "    model = Sequential()\n",
    "    \n",
    "    #First hidden layer\n",
    "    model.add(Dense(neurons, input_dim = X_train.shape[1], activation = activation))\n",
    "    \n",
    "    #Extra layers\n",
    "    if h_layers > 1:\n",
    "        for i in range(2, h_layers + 1):\n",
    "            model.add(Dense(neurons,  activation = activation))\n",
    "    \n",
    "    #Output layer with softma activation\n",
    "    model.add(Dense(4, activation='softmax'))\n",
    "    \n",
    "    # Compile model\n",
    "    model.compile(loss = loss, optimizer='adam', metrics=['accuracy'])\n",
    "    \n",
    "    return model\n",
    "    \n",
    "    "
   ]
  },
  {
   "cell_type": "code",
   "execution_count": 94,
   "metadata": {},
   "outputs": [],
   "source": [
    "# Define early stop parameter\n",
    "from tensorflow.keras.callbacks import EarlyStopping\n",
    "early_stop = EarlyStopping(monitor= 'val_loss', mode = 'min',\n",
    "                           verbose = 0, patience = 25)"
   ]
  },
  {
   "cell_type": "markdown",
   "metadata": {},
   "source": [
    "### Build CVSearch Grid"
   ]
  },
  {
   "cell_type": "code",
   "execution_count": 95,
   "metadata": {
    "collapsed": true
   },
   "outputs": [
    {
     "name": "stdout",
     "output_type": "stream",
     "text": [
      "WARNING:tensorflow:Early stopping conditioned on metric `val_loss` which is not available. Available metrics are: \n"
     ]
    },
    {
     "name": "stderr",
     "output_type": "stream",
     "text": [
      "/opt/anaconda3/lib/python3.7/site-packages/sklearn/model_selection/_validation.py:536: FitFailedWarning: Estimator fit failed. The score on this train-test partition for these parameters will be set to nan. Details: \n",
      "ValueError: Can not squeeze dim[1], expected a dimension of 1, got 4 for 'metrics/accuracy/Squeeze' (op: 'Squeeze') with input shapes: [?,4].\n",
      "\n",
      "  FitFailedWarning)\n"
     ]
    },
    {
     "name": "stdout",
     "output_type": "stream",
     "text": [
      "WARNING:tensorflow:Early stopping conditioned on metric `val_loss` which is not available. Available metrics are: \n"
     ]
    },
    {
     "name": "stderr",
     "output_type": "stream",
     "text": [
      "/opt/anaconda3/lib/python3.7/site-packages/sklearn/model_selection/_validation.py:536: FitFailedWarning: Estimator fit failed. The score on this train-test partition for these parameters will be set to nan. Details: \n",
      "ValueError: Can not squeeze dim[1], expected a dimension of 1, got 4 for 'metrics/accuracy/Squeeze' (op: 'Squeeze') with input shapes: [?,4].\n",
      "\n",
      "  FitFailedWarning)\n"
     ]
    },
    {
     "name": "stdout",
     "output_type": "stream",
     "text": [
      "WARNING:tensorflow:Early stopping conditioned on metric `val_loss` which is not available. Available metrics are: \n"
     ]
    },
    {
     "name": "stderr",
     "output_type": "stream",
     "text": [
      "/opt/anaconda3/lib/python3.7/site-packages/sklearn/model_selection/_validation.py:536: FitFailedWarning: Estimator fit failed. The score on this train-test partition for these parameters will be set to nan. Details: \n",
      "ValueError: Can not squeeze dim[1], expected a dimension of 1, got 4 for 'metrics/accuracy/Squeeze' (op: 'Squeeze') with input shapes: [?,4].\n",
      "\n",
      "  FitFailedWarning)\n"
     ]
    },
    {
     "name": "stdout",
     "output_type": "stream",
     "text": [
      "WARNING:tensorflow:Early stopping conditioned on metric `val_loss` which is not available. Available metrics are: \n"
     ]
    },
    {
     "name": "stderr",
     "output_type": "stream",
     "text": [
      "/opt/anaconda3/lib/python3.7/site-packages/sklearn/model_selection/_validation.py:536: FitFailedWarning: Estimator fit failed. The score on this train-test partition for these parameters will be set to nan. Details: \n",
      "ValueError: Can not squeeze dim[1], expected a dimension of 1, got 4 for 'metrics/accuracy/Squeeze' (op: 'Squeeze') with input shapes: [?,4].\n",
      "\n",
      "  FitFailedWarning)\n"
     ]
    },
    {
     "name": "stdout",
     "output_type": "stream",
     "text": [
      "WARNING:tensorflow:Early stopping conditioned on metric `val_loss` which is not available. Available metrics are: \n"
     ]
    },
    {
     "name": "stderr",
     "output_type": "stream",
     "text": [
      "/opt/anaconda3/lib/python3.7/site-packages/sklearn/model_selection/_validation.py:536: FitFailedWarning: Estimator fit failed. The score on this train-test partition for these parameters will be set to nan. Details: \n",
      "ValueError: Can not squeeze dim[1], expected a dimension of 1, got 4 for 'metrics/accuracy/Squeeze' (op: 'Squeeze') with input shapes: [?,4].\n",
      "\n",
      "  FitFailedWarning)\n"
     ]
    },
    {
     "name": "stdout",
     "output_type": "stream",
     "text": [
      "WARNING:tensorflow:Early stopping conditioned on metric `val_loss` which is not available. Available metrics are: \n"
     ]
    },
    {
     "name": "stderr",
     "output_type": "stream",
     "text": [
      "/opt/anaconda3/lib/python3.7/site-packages/sklearn/model_selection/_validation.py:536: FitFailedWarning: Estimator fit failed. The score on this train-test partition for these parameters will be set to nan. Details: \n",
      "ValueError: Can not squeeze dim[1], expected a dimension of 1, got 4 for 'metrics/accuracy/Squeeze' (op: 'Squeeze') with input shapes: [?,4].\n",
      "\n",
      "  FitFailedWarning)\n"
     ]
    },
    {
     "name": "stdout",
     "output_type": "stream",
     "text": [
      "WARNING:tensorflow:Early stopping conditioned on metric `val_loss` which is not available. Available metrics are: \n"
     ]
    },
    {
     "name": "stderr",
     "output_type": "stream",
     "text": [
      "/opt/anaconda3/lib/python3.7/site-packages/sklearn/model_selection/_validation.py:536: FitFailedWarning: Estimator fit failed. The score on this train-test partition for these parameters will be set to nan. Details: \n",
      "ValueError: Can not squeeze dim[1], expected a dimension of 1, got 4 for 'metrics/accuracy/Squeeze' (op: 'Squeeze') with input shapes: [?,4].\n",
      "\n",
      "  FitFailedWarning)\n"
     ]
    },
    {
     "name": "stdout",
     "output_type": "stream",
     "text": [
      "WARNING:tensorflow:Early stopping conditioned on metric `val_loss` which is not available. Available metrics are: \n"
     ]
    },
    {
     "name": "stderr",
     "output_type": "stream",
     "text": [
      "/opt/anaconda3/lib/python3.7/site-packages/sklearn/model_selection/_validation.py:536: FitFailedWarning: Estimator fit failed. The score on this train-test partition for these parameters will be set to nan. Details: \n",
      "ValueError: Can not squeeze dim[1], expected a dimension of 1, got 4 for 'metrics/accuracy/Squeeze' (op: 'Squeeze') with input shapes: [?,4].\n",
      "\n",
      "  FitFailedWarning)\n"
     ]
    },
    {
     "name": "stdout",
     "output_type": "stream",
     "text": [
      "WARNING:tensorflow:Early stopping conditioned on metric `val_loss` which is not available. Available metrics are: \n"
     ]
    },
    {
     "name": "stderr",
     "output_type": "stream",
     "text": [
      "/opt/anaconda3/lib/python3.7/site-packages/sklearn/model_selection/_validation.py:536: FitFailedWarning: Estimator fit failed. The score on this train-test partition for these parameters will be set to nan. Details: \n",
      "ValueError: Can not squeeze dim[1], expected a dimension of 1, got 4 for 'metrics/accuracy/Squeeze' (op: 'Squeeze') with input shapes: [?,4].\n",
      "\n",
      "  FitFailedWarning)\n"
     ]
    },
    {
     "name": "stdout",
     "output_type": "stream",
     "text": [
      "WARNING:tensorflow:Early stopping conditioned on metric `val_loss` which is not available. Available metrics are: \n"
     ]
    },
    {
     "name": "stderr",
     "output_type": "stream",
     "text": [
      "/opt/anaconda3/lib/python3.7/site-packages/sklearn/model_selection/_validation.py:536: FitFailedWarning: Estimator fit failed. The score on this train-test partition for these parameters will be set to nan. Details: \n",
      "ValueError: Can not squeeze dim[1], expected a dimension of 1, got 4 for 'metrics/accuracy/Squeeze' (op: 'Squeeze') with input shapes: [?,4].\n",
      "\n",
      "  FitFailedWarning)\n"
     ]
    },
    {
     "name": "stdout",
     "output_type": "stream",
     "text": [
      "WARNING:tensorflow:Early stopping conditioned on metric `val_loss` which is not available. Available metrics are: \n"
     ]
    },
    {
     "name": "stderr",
     "output_type": "stream",
     "text": [
      "/opt/anaconda3/lib/python3.7/site-packages/sklearn/model_selection/_validation.py:536: FitFailedWarning: Estimator fit failed. The score on this train-test partition for these parameters will be set to nan. Details: \n",
      "ValueError: Can not squeeze dim[1], expected a dimension of 1, got 4 for 'metrics/accuracy/Squeeze' (op: 'Squeeze') with input shapes: [?,4].\n",
      "\n",
      "  FitFailedWarning)\n"
     ]
    },
    {
     "name": "stdout",
     "output_type": "stream",
     "text": [
      "WARNING:tensorflow:Early stopping conditioned on metric `val_loss` which is not available. Available metrics are: \n"
     ]
    },
    {
     "name": "stderr",
     "output_type": "stream",
     "text": [
      "/opt/anaconda3/lib/python3.7/site-packages/sklearn/model_selection/_validation.py:536: FitFailedWarning: Estimator fit failed. The score on this train-test partition for these parameters will be set to nan. Details: \n",
      "ValueError: Can not squeeze dim[1], expected a dimension of 1, got 4 for 'metrics/accuracy/Squeeze' (op: 'Squeeze') with input shapes: [?,4].\n",
      "\n",
      "  FitFailedWarning)\n"
     ]
    },
    {
     "name": "stdout",
     "output_type": "stream",
     "text": [
      "WARNING:tensorflow:Early stopping conditioned on metric `val_loss` which is not available. Available metrics are: \n"
     ]
    },
    {
     "name": "stderr",
     "output_type": "stream",
     "text": [
      "/opt/anaconda3/lib/python3.7/site-packages/sklearn/model_selection/_validation.py:536: FitFailedWarning: Estimator fit failed. The score on this train-test partition for these parameters will be set to nan. Details: \n",
      "ValueError: Can not squeeze dim[1], expected a dimension of 1, got 4 for 'metrics/accuracy/Squeeze' (op: 'Squeeze') with input shapes: [?,4].\n",
      "\n",
      "  FitFailedWarning)\n"
     ]
    },
    {
     "name": "stdout",
     "output_type": "stream",
     "text": [
      "WARNING:tensorflow:Early stopping conditioned on metric `val_loss` which is not available. Available metrics are: \n"
     ]
    },
    {
     "name": "stderr",
     "output_type": "stream",
     "text": [
      "/opt/anaconda3/lib/python3.7/site-packages/sklearn/model_selection/_validation.py:536: FitFailedWarning: Estimator fit failed. The score on this train-test partition for these parameters will be set to nan. Details: \n",
      "ValueError: Can not squeeze dim[1], expected a dimension of 1, got 4 for 'metrics/accuracy/Squeeze' (op: 'Squeeze') with input shapes: [?,4].\n",
      "\n",
      "  FitFailedWarning)\n"
     ]
    },
    {
     "name": "stdout",
     "output_type": "stream",
     "text": [
      "WARNING:tensorflow:Early stopping conditioned on metric `val_loss` which is not available. Available metrics are: \n"
     ]
    },
    {
     "name": "stderr",
     "output_type": "stream",
     "text": [
      "/opt/anaconda3/lib/python3.7/site-packages/sklearn/model_selection/_validation.py:536: FitFailedWarning: Estimator fit failed. The score on this train-test partition for these parameters will be set to nan. Details: \n",
      "ValueError: Can not squeeze dim[1], expected a dimension of 1, got 4 for 'metrics/accuracy/Squeeze' (op: 'Squeeze') with input shapes: [?,4].\n",
      "\n",
      "  FitFailedWarning)\n"
     ]
    },
    {
     "name": "stdout",
     "output_type": "stream",
     "text": [
      "WARNING:tensorflow:Early stopping conditioned on metric `val_loss` which is not available. Available metrics are: \n"
     ]
    },
    {
     "name": "stderr",
     "output_type": "stream",
     "text": [
      "/opt/anaconda3/lib/python3.7/site-packages/sklearn/model_selection/_validation.py:536: FitFailedWarning: Estimator fit failed. The score on this train-test partition for these parameters will be set to nan. Details: \n",
      "ValueError: Can not squeeze dim[1], expected a dimension of 1, got 4 for 'metrics/accuracy/Squeeze' (op: 'Squeeze') with input shapes: [?,4].\n",
      "\n",
      "  FitFailedWarning)\n"
     ]
    },
    {
     "name": "stdout",
     "output_type": "stream",
     "text": [
      "WARNING:tensorflow:Early stopping conditioned on metric `val_loss` which is not available. Available metrics are: \n"
     ]
    },
    {
     "name": "stderr",
     "output_type": "stream",
     "text": [
      "/opt/anaconda3/lib/python3.7/site-packages/sklearn/model_selection/_validation.py:536: FitFailedWarning: Estimator fit failed. The score on this train-test partition for these parameters will be set to nan. Details: \n",
      "ValueError: Can not squeeze dim[1], expected a dimension of 1, got 4 for 'metrics/accuracy/Squeeze' (op: 'Squeeze') with input shapes: [?,4].\n",
      "\n",
      "  FitFailedWarning)\n"
     ]
    },
    {
     "name": "stdout",
     "output_type": "stream",
     "text": [
      "WARNING:tensorflow:Early stopping conditioned on metric `val_loss` which is not available. Available metrics are: \n"
     ]
    },
    {
     "name": "stderr",
     "output_type": "stream",
     "text": [
      "/opt/anaconda3/lib/python3.7/site-packages/sklearn/model_selection/_validation.py:536: FitFailedWarning: Estimator fit failed. The score on this train-test partition for these parameters will be set to nan. Details: \n",
      "ValueError: Can not squeeze dim[1], expected a dimension of 1, got 4 for 'metrics/accuracy/Squeeze' (op: 'Squeeze') with input shapes: [?,4].\n",
      "\n",
      "  FitFailedWarning)\n"
     ]
    },
    {
     "name": "stdout",
     "output_type": "stream",
     "text": [
      "WARNING:tensorflow:Early stopping conditioned on metric `val_loss` which is not available. Available metrics are: \n"
     ]
    },
    {
     "name": "stderr",
     "output_type": "stream",
     "text": [
      "/opt/anaconda3/lib/python3.7/site-packages/sklearn/model_selection/_validation.py:536: FitFailedWarning: Estimator fit failed. The score on this train-test partition for these parameters will be set to nan. Details: \n",
      "ValueError: Can not squeeze dim[1], expected a dimension of 1, got 4 for 'metrics/accuracy/Squeeze' (op: 'Squeeze') with input shapes: [?,4].\n",
      "\n",
      "  FitFailedWarning)\n"
     ]
    },
    {
     "name": "stdout",
     "output_type": "stream",
     "text": [
      "WARNING:tensorflow:Early stopping conditioned on metric `val_loss` which is not available. Available metrics are: \n"
     ]
    },
    {
     "name": "stderr",
     "output_type": "stream",
     "text": [
      "/opt/anaconda3/lib/python3.7/site-packages/sklearn/model_selection/_validation.py:536: FitFailedWarning: Estimator fit failed. The score on this train-test partition for these parameters will be set to nan. Details: \n",
      "ValueError: Can not squeeze dim[1], expected a dimension of 1, got 4 for 'metrics/accuracy/Squeeze' (op: 'Squeeze') with input shapes: [?,4].\n",
      "\n",
      "  FitFailedWarning)\n"
     ]
    },
    {
     "name": "stdout",
     "output_type": "stream",
     "text": [
      "WARNING:tensorflow:Early stopping conditioned on metric `val_loss` which is not available. Available metrics are: \n"
     ]
    },
    {
     "name": "stderr",
     "output_type": "stream",
     "text": [
      "/opt/anaconda3/lib/python3.7/site-packages/sklearn/model_selection/_validation.py:536: FitFailedWarning: Estimator fit failed. The score on this train-test partition for these parameters will be set to nan. Details: \n",
      "ValueError: Can not squeeze dim[1], expected a dimension of 1, got 4 for 'metrics/accuracy/Squeeze' (op: 'Squeeze') with input shapes: [?,4].\n",
      "\n",
      "  FitFailedWarning)\n"
     ]
    },
    {
     "name": "stdout",
     "output_type": "stream",
     "text": [
      "WARNING:tensorflow:Early stopping conditioned on metric `val_loss` which is not available. Available metrics are: \n"
     ]
    },
    {
     "name": "stderr",
     "output_type": "stream",
     "text": [
      "/opt/anaconda3/lib/python3.7/site-packages/sklearn/model_selection/_validation.py:536: FitFailedWarning: Estimator fit failed. The score on this train-test partition for these parameters will be set to nan. Details: \n",
      "ValueError: Can not squeeze dim[1], expected a dimension of 1, got 4 for 'metrics/accuracy/Squeeze' (op: 'Squeeze') with input shapes: [?,4].\n",
      "\n",
      "  FitFailedWarning)\n"
     ]
    },
    {
     "name": "stdout",
     "output_type": "stream",
     "text": [
      "WARNING:tensorflow:Early stopping conditioned on metric `val_loss` which is not available. Available metrics are: \n"
     ]
    },
    {
     "name": "stderr",
     "output_type": "stream",
     "text": [
      "/opt/anaconda3/lib/python3.7/site-packages/sklearn/model_selection/_validation.py:536: FitFailedWarning: Estimator fit failed. The score on this train-test partition for these parameters will be set to nan. Details: \n",
      "ValueError: Can not squeeze dim[1], expected a dimension of 1, got 4 for 'metrics/accuracy/Squeeze' (op: 'Squeeze') with input shapes: [?,4].\n",
      "\n",
      "  FitFailedWarning)\n"
     ]
    },
    {
     "name": "stdout",
     "output_type": "stream",
     "text": [
      "WARNING:tensorflow:Early stopping conditioned on metric `val_loss` which is not available. Available metrics are: \n"
     ]
    },
    {
     "name": "stderr",
     "output_type": "stream",
     "text": [
      "/opt/anaconda3/lib/python3.7/site-packages/sklearn/model_selection/_validation.py:536: FitFailedWarning: Estimator fit failed. The score on this train-test partition for these parameters will be set to nan. Details: \n",
      "ValueError: Can not squeeze dim[1], expected a dimension of 1, got 4 for 'metrics/accuracy/Squeeze' (op: 'Squeeze') with input shapes: [?,4].\n",
      "\n",
      "  FitFailedWarning)\n"
     ]
    },
    {
     "name": "stdout",
     "output_type": "stream",
     "text": [
      "WARNING:tensorflow:Early stopping conditioned on metric `val_loss` which is not available. Available metrics are: \n"
     ]
    },
    {
     "name": "stderr",
     "output_type": "stream",
     "text": [
      "/opt/anaconda3/lib/python3.7/site-packages/sklearn/model_selection/_validation.py:536: FitFailedWarning: Estimator fit failed. The score on this train-test partition for these parameters will be set to nan. Details: \n",
      "ValueError: Can not squeeze dim[1], expected a dimension of 1, got 4 for 'metrics/accuracy/Squeeze' (op: 'Squeeze') with input shapes: [?,4].\n",
      "\n",
      "  FitFailedWarning)\n"
     ]
    },
    {
     "name": "stdout",
     "output_type": "stream",
     "text": [
      "WARNING:tensorflow:Early stopping conditioned on metric `val_loss` which is not available. Available metrics are: \n"
     ]
    },
    {
     "name": "stderr",
     "output_type": "stream",
     "text": [
      "/opt/anaconda3/lib/python3.7/site-packages/sklearn/model_selection/_validation.py:536: FitFailedWarning: Estimator fit failed. The score on this train-test partition for these parameters will be set to nan. Details: \n",
      "ValueError: Can not squeeze dim[1], expected a dimension of 1, got 4 for 'metrics/accuracy/Squeeze' (op: 'Squeeze') with input shapes: [?,4].\n",
      "\n",
      "  FitFailedWarning)\n"
     ]
    },
    {
     "name": "stdout",
     "output_type": "stream",
     "text": [
      "WARNING:tensorflow:Early stopping conditioned on metric `val_loss` which is not available. Available metrics are: \n"
     ]
    },
    {
     "name": "stderr",
     "output_type": "stream",
     "text": [
      "/opt/anaconda3/lib/python3.7/site-packages/sklearn/model_selection/_validation.py:536: FitFailedWarning: Estimator fit failed. The score on this train-test partition for these parameters will be set to nan. Details: \n",
      "ValueError: Can not squeeze dim[1], expected a dimension of 1, got 4 for 'metrics/accuracy/Squeeze' (op: 'Squeeze') with input shapes: [?,4].\n",
      "\n",
      "  FitFailedWarning)\n"
     ]
    },
    {
     "name": "stdout",
     "output_type": "stream",
     "text": [
      "WARNING:tensorflow:Early stopping conditioned on metric `val_loss` which is not available. Available metrics are: \n"
     ]
    },
    {
     "name": "stderr",
     "output_type": "stream",
     "text": [
      "/opt/anaconda3/lib/python3.7/site-packages/sklearn/model_selection/_validation.py:536: FitFailedWarning: Estimator fit failed. The score on this train-test partition for these parameters will be set to nan. Details: \n",
      "ValueError: Can not squeeze dim[1], expected a dimension of 1, got 4 for 'metrics/accuracy/Squeeze' (op: 'Squeeze') with input shapes: [?,4].\n",
      "\n",
      "  FitFailedWarning)\n"
     ]
    },
    {
     "name": "stdout",
     "output_type": "stream",
     "text": [
      "WARNING:tensorflow:Early stopping conditioned on metric `val_loss` which is not available. Available metrics are: \n"
     ]
    },
    {
     "name": "stderr",
     "output_type": "stream",
     "text": [
      "/opt/anaconda3/lib/python3.7/site-packages/sklearn/model_selection/_validation.py:536: FitFailedWarning: Estimator fit failed. The score on this train-test partition for these parameters will be set to nan. Details: \n",
      "ValueError: Can not squeeze dim[1], expected a dimension of 1, got 4 for 'metrics/accuracy/Squeeze' (op: 'Squeeze') with input shapes: [?,4].\n",
      "\n",
      "  FitFailedWarning)\n"
     ]
    },
    {
     "name": "stdout",
     "output_type": "stream",
     "text": [
      "WARNING:tensorflow:Early stopping conditioned on metric `val_loss` which is not available. Available metrics are: \n"
     ]
    },
    {
     "name": "stderr",
     "output_type": "stream",
     "text": [
      "/opt/anaconda3/lib/python3.7/site-packages/sklearn/model_selection/_validation.py:536: FitFailedWarning: Estimator fit failed. The score on this train-test partition for these parameters will be set to nan. Details: \n",
      "ValueError: Can not squeeze dim[1], expected a dimension of 1, got 4 for 'metrics/accuracy/Squeeze' (op: 'Squeeze') with input shapes: [?,4].\n",
      "\n",
      "  FitFailedWarning)\n"
     ]
    },
    {
     "name": "stdout",
     "output_type": "stream",
     "text": [
      "WARNING:tensorflow:Early stopping conditioned on metric `val_loss` which is not available. Available metrics are: \n"
     ]
    },
    {
     "name": "stderr",
     "output_type": "stream",
     "text": [
      "/opt/anaconda3/lib/python3.7/site-packages/sklearn/model_selection/_validation.py:536: FitFailedWarning: Estimator fit failed. The score on this train-test partition for these parameters will be set to nan. Details: \n",
      "ValueError: Can not squeeze dim[1], expected a dimension of 1, got 4 for 'metrics/accuracy/Squeeze' (op: 'Squeeze') with input shapes: [?,4].\n",
      "\n",
      "  FitFailedWarning)\n"
     ]
    },
    {
     "name": "stdout",
     "output_type": "stream",
     "text": [
      "WARNING:tensorflow:Early stopping conditioned on metric `val_loss` which is not available. Available metrics are: \n"
     ]
    },
    {
     "name": "stderr",
     "output_type": "stream",
     "text": [
      "/opt/anaconda3/lib/python3.7/site-packages/sklearn/model_selection/_validation.py:536: FitFailedWarning: Estimator fit failed. The score on this train-test partition for these parameters will be set to nan. Details: \n",
      "ValueError: Can not squeeze dim[1], expected a dimension of 1, got 4 for 'metrics/accuracy/Squeeze' (op: 'Squeeze') with input shapes: [?,4].\n",
      "\n",
      "  FitFailedWarning)\n"
     ]
    },
    {
     "name": "stdout",
     "output_type": "stream",
     "text": [
      "WARNING:tensorflow:Early stopping conditioned on metric `val_loss` which is not available. Available metrics are: \n"
     ]
    },
    {
     "name": "stderr",
     "output_type": "stream",
     "text": [
      "/opt/anaconda3/lib/python3.7/site-packages/sklearn/model_selection/_validation.py:536: FitFailedWarning: Estimator fit failed. The score on this train-test partition for these parameters will be set to nan. Details: \n",
      "ValueError: Can not squeeze dim[1], expected a dimension of 1, got 4 for 'metrics/accuracy/Squeeze' (op: 'Squeeze') with input shapes: [?,4].\n",
      "\n",
      "  FitFailedWarning)\n"
     ]
    },
    {
     "name": "stdout",
     "output_type": "stream",
     "text": [
      "WARNING:tensorflow:Early stopping conditioned on metric `val_loss` which is not available. Available metrics are: \n"
     ]
    },
    {
     "name": "stderr",
     "output_type": "stream",
     "text": [
      "/opt/anaconda3/lib/python3.7/site-packages/sklearn/model_selection/_validation.py:536: FitFailedWarning: Estimator fit failed. The score on this train-test partition for these parameters will be set to nan. Details: \n",
      "ValueError: Can not squeeze dim[1], expected a dimension of 1, got 4 for 'metrics/accuracy/Squeeze' (op: 'Squeeze') with input shapes: [?,4].\n",
      "\n",
      "  FitFailedWarning)\n"
     ]
    },
    {
     "name": "stdout",
     "output_type": "stream",
     "text": [
      "WARNING:tensorflow:Early stopping conditioned on metric `val_loss` which is not available. Available metrics are: \n"
     ]
    },
    {
     "name": "stderr",
     "output_type": "stream",
     "text": [
      "/opt/anaconda3/lib/python3.7/site-packages/sklearn/model_selection/_validation.py:536: FitFailedWarning: Estimator fit failed. The score on this train-test partition for these parameters will be set to nan. Details: \n",
      "ValueError: Can not squeeze dim[1], expected a dimension of 1, got 4 for 'metrics/accuracy/Squeeze' (op: 'Squeeze') with input shapes: [?,4].\n",
      "\n",
      "  FitFailedWarning)\n"
     ]
    },
    {
     "name": "stdout",
     "output_type": "stream",
     "text": [
      "WARNING:tensorflow:Early stopping conditioned on metric `val_loss` which is not available. Available metrics are: \n"
     ]
    },
    {
     "name": "stderr",
     "output_type": "stream",
     "text": [
      "/opt/anaconda3/lib/python3.7/site-packages/sklearn/model_selection/_validation.py:536: FitFailedWarning: Estimator fit failed. The score on this train-test partition for these parameters will be set to nan. Details: \n",
      "ValueError: Can not squeeze dim[1], expected a dimension of 1, got 4 for 'metrics/accuracy/Squeeze' (op: 'Squeeze') with input shapes: [?,4].\n",
      "\n",
      "  FitFailedWarning)\n"
     ]
    },
    {
     "name": "stdout",
     "output_type": "stream",
     "text": [
      "WARNING:tensorflow:Early stopping conditioned on metric `val_loss` which is not available. Available metrics are: \n"
     ]
    },
    {
     "name": "stderr",
     "output_type": "stream",
     "text": [
      "/opt/anaconda3/lib/python3.7/site-packages/sklearn/model_selection/_validation.py:536: FitFailedWarning: Estimator fit failed. The score on this train-test partition for these parameters will be set to nan. Details: \n",
      "ValueError: Can not squeeze dim[1], expected a dimension of 1, got 4 for 'metrics/accuracy/Squeeze' (op: 'Squeeze') with input shapes: [?,4].\n",
      "\n",
      "  FitFailedWarning)\n"
     ]
    },
    {
     "name": "stdout",
     "output_type": "stream",
     "text": [
      "WARNING:tensorflow:Early stopping conditioned on metric `val_loss` which is not available. Available metrics are: \n"
     ]
    },
    {
     "name": "stderr",
     "output_type": "stream",
     "text": [
      "/opt/anaconda3/lib/python3.7/site-packages/sklearn/model_selection/_validation.py:536: FitFailedWarning: Estimator fit failed. The score on this train-test partition for these parameters will be set to nan. Details: \n",
      "ValueError: Can not squeeze dim[1], expected a dimension of 1, got 4 for 'metrics/accuracy/Squeeze' (op: 'Squeeze') with input shapes: [?,4].\n",
      "\n",
      "  FitFailedWarning)\n"
     ]
    },
    {
     "name": "stdout",
     "output_type": "stream",
     "text": [
      "WARNING:tensorflow:Early stopping conditioned on metric `val_loss` which is not available. Available metrics are: \n"
     ]
    },
    {
     "name": "stderr",
     "output_type": "stream",
     "text": [
      "/opt/anaconda3/lib/python3.7/site-packages/sklearn/model_selection/_validation.py:536: FitFailedWarning: Estimator fit failed. The score on this train-test partition for these parameters will be set to nan. Details: \n",
      "ValueError: Can not squeeze dim[1], expected a dimension of 1, got 4 for 'metrics/accuracy/Squeeze' (op: 'Squeeze') with input shapes: [?,4].\n",
      "\n",
      "  FitFailedWarning)\n"
     ]
    },
    {
     "name": "stdout",
     "output_type": "stream",
     "text": [
      "WARNING:tensorflow:Early stopping conditioned on metric `val_loss` which is not available. Available metrics are: \n"
     ]
    },
    {
     "name": "stderr",
     "output_type": "stream",
     "text": [
      "/opt/anaconda3/lib/python3.7/site-packages/sklearn/model_selection/_validation.py:536: FitFailedWarning: Estimator fit failed. The score on this train-test partition for these parameters will be set to nan. Details: \n",
      "ValueError: Can not squeeze dim[1], expected a dimension of 1, got 4 for 'metrics/accuracy/Squeeze' (op: 'Squeeze') with input shapes: [?,4].\n",
      "\n",
      "  FitFailedWarning)\n"
     ]
    },
    {
     "name": "stdout",
     "output_type": "stream",
     "text": [
      "WARNING:tensorflow:Early stopping conditioned on metric `val_loss` which is not available. Available metrics are: \n"
     ]
    },
    {
     "name": "stderr",
     "output_type": "stream",
     "text": [
      "/opt/anaconda3/lib/python3.7/site-packages/sklearn/model_selection/_validation.py:536: FitFailedWarning: Estimator fit failed. The score on this train-test partition for these parameters will be set to nan. Details: \n",
      "ValueError: Can not squeeze dim[1], expected a dimension of 1, got 4 for 'metrics/accuracy/Squeeze' (op: 'Squeeze') with input shapes: [?,4].\n",
      "\n",
      "  FitFailedWarning)\n"
     ]
    },
    {
     "name": "stdout",
     "output_type": "stream",
     "text": [
      "WARNING:tensorflow:Early stopping conditioned on metric `val_loss` which is not available. Available metrics are: \n"
     ]
    },
    {
     "name": "stderr",
     "output_type": "stream",
     "text": [
      "/opt/anaconda3/lib/python3.7/site-packages/sklearn/model_selection/_validation.py:536: FitFailedWarning: Estimator fit failed. The score on this train-test partition for these parameters will be set to nan. Details: \n",
      "ValueError: Can not squeeze dim[1], expected a dimension of 1, got 4 for 'metrics/accuracy/Squeeze' (op: 'Squeeze') with input shapes: [?,4].\n",
      "\n",
      "  FitFailedWarning)\n"
     ]
    },
    {
     "name": "stdout",
     "output_type": "stream",
     "text": [
      "WARNING:tensorflow:Early stopping conditioned on metric `val_loss` which is not available. Available metrics are: \n"
     ]
    },
    {
     "name": "stderr",
     "output_type": "stream",
     "text": [
      "/opt/anaconda3/lib/python3.7/site-packages/sklearn/model_selection/_validation.py:536: FitFailedWarning: Estimator fit failed. The score on this train-test partition for these parameters will be set to nan. Details: \n",
      "ValueError: Can not squeeze dim[1], expected a dimension of 1, got 4 for 'metrics/accuracy/Squeeze' (op: 'Squeeze') with input shapes: [?,4].\n",
      "\n",
      "  FitFailedWarning)\n"
     ]
    },
    {
     "name": "stdout",
     "output_type": "stream",
     "text": [
      "WARNING:tensorflow:Early stopping conditioned on metric `val_loss` which is not available. Available metrics are: \n"
     ]
    },
    {
     "name": "stderr",
     "output_type": "stream",
     "text": [
      "/opt/anaconda3/lib/python3.7/site-packages/sklearn/model_selection/_validation.py:536: FitFailedWarning: Estimator fit failed. The score on this train-test partition for these parameters will be set to nan. Details: \n",
      "ValueError: Can not squeeze dim[1], expected a dimension of 1, got 4 for 'metrics/accuracy/Squeeze' (op: 'Squeeze') with input shapes: [?,4].\n",
      "\n",
      "  FitFailedWarning)\n"
     ]
    },
    {
     "name": "stdout",
     "output_type": "stream",
     "text": [
      "WARNING:tensorflow:Early stopping conditioned on metric `val_loss` which is not available. Available metrics are: \n"
     ]
    },
    {
     "name": "stderr",
     "output_type": "stream",
     "text": [
      "/opt/anaconda3/lib/python3.7/site-packages/sklearn/model_selection/_validation.py:536: FitFailedWarning: Estimator fit failed. The score on this train-test partition for these parameters will be set to nan. Details: \n",
      "ValueError: Can not squeeze dim[1], expected a dimension of 1, got 4 for 'metrics/accuracy/Squeeze' (op: 'Squeeze') with input shapes: [?,4].\n",
      "\n",
      "  FitFailedWarning)\n"
     ]
    },
    {
     "name": "stdout",
     "output_type": "stream",
     "text": [
      "WARNING:tensorflow:Early stopping conditioned on metric `val_loss` which is not available. Available metrics are: \n"
     ]
    },
    {
     "name": "stderr",
     "output_type": "stream",
     "text": [
      "/opt/anaconda3/lib/python3.7/site-packages/sklearn/model_selection/_validation.py:536: FitFailedWarning: Estimator fit failed. The score on this train-test partition for these parameters will be set to nan. Details: \n",
      "ValueError: Can not squeeze dim[1], expected a dimension of 1, got 4 for 'metrics/accuracy/Squeeze' (op: 'Squeeze') with input shapes: [?,4].\n",
      "\n",
      "  FitFailedWarning)\n"
     ]
    },
    {
     "name": "stdout",
     "output_type": "stream",
     "text": [
      "WARNING:tensorflow:Early stopping conditioned on metric `val_loss` which is not available. Available metrics are: \n"
     ]
    },
    {
     "name": "stderr",
     "output_type": "stream",
     "text": [
      "/opt/anaconda3/lib/python3.7/site-packages/sklearn/model_selection/_validation.py:536: FitFailedWarning: Estimator fit failed. The score on this train-test partition for these parameters will be set to nan. Details: \n",
      "ValueError: Can not squeeze dim[1], expected a dimension of 1, got 4 for 'metrics/accuracy/Squeeze' (op: 'Squeeze') with input shapes: [?,4].\n",
      "\n",
      "  FitFailedWarning)\n"
     ]
    },
    {
     "name": "stdout",
     "output_type": "stream",
     "text": [
      "WARNING:tensorflow:Early stopping conditioned on metric `val_loss` which is not available. Available metrics are: \n"
     ]
    },
    {
     "name": "stderr",
     "output_type": "stream",
     "text": [
      "/opt/anaconda3/lib/python3.7/site-packages/sklearn/model_selection/_validation.py:536: FitFailedWarning: Estimator fit failed. The score on this train-test partition for these parameters will be set to nan. Details: \n",
      "ValueError: Can not squeeze dim[1], expected a dimension of 1, got 4 for 'metrics/accuracy/Squeeze' (op: 'Squeeze') with input shapes: [?,4].\n",
      "\n",
      "  FitFailedWarning)\n"
     ]
    },
    {
     "name": "stdout",
     "output_type": "stream",
     "text": [
      "Best: 0.916576 using {'activation': 'relu', 'h_layers': 3, 'loss': 'categorical_crossentropy', 'neurons': 10}\n",
      "0.913674 (0.005355) with: {'activation': 'relu', 'h_layers': 2, 'loss': 'categorical_crossentropy', 'neurons': 8}\n",
      "0.910047 (0.004559) with: {'activation': 'relu', 'h_layers': 2, 'loss': 'categorical_crossentropy', 'neurons': 10}\n",
      "0.910773 (0.005404) with: {'activation': 'relu', 'h_layers': 2, 'loss': 'categorical_crossentropy', 'neurons': 15}\n",
      "0.908959 (0.003591) with: {'activation': 'relu', 'h_layers': 2, 'loss': 'categorical_crossentropy', 'neurons': 20}\n",
      "nan (nan) with: {'activation': 'relu', 'h_layers': 2, 'loss': 'sparse_categorical_crossentropy', 'neurons': 8}\n",
      "nan (nan) with: {'activation': 'relu', 'h_layers': 2, 'loss': 'sparse_categorical_crossentropy', 'neurons': 10}\n",
      "nan (nan) with: {'activation': 'relu', 'h_layers': 2, 'loss': 'sparse_categorical_crossentropy', 'neurons': 15}\n",
      "nan (nan) with: {'activation': 'relu', 'h_layers': 2, 'loss': 'sparse_categorical_crossentropy', 'neurons': 20}\n",
      "0.908959 (0.002856) with: {'activation': 'relu', 'h_layers': 2, 'loss': 'kullback_leibler_divergence', 'neurons': 8}\n",
      "0.910410 (0.001849) with: {'activation': 'relu', 'h_layers': 2, 'loss': 'kullback_leibler_divergence', 'neurons': 10}\n",
      "0.908234 (0.002052) with: {'activation': 'relu', 'h_layers': 2, 'loss': 'kullback_leibler_divergence', 'neurons': 15}\n",
      "0.907871 (0.005052) with: {'activation': 'relu', 'h_layers': 2, 'loss': 'kullback_leibler_divergence', 'neurons': 20}\n",
      "0.912223 (0.003120) with: {'activation': 'relu', 'h_layers': 3, 'loss': 'categorical_crossentropy', 'neurons': 8}\n",
      "0.916576 (0.003591) with: {'activation': 'relu', 'h_layers': 3, 'loss': 'categorical_crossentropy', 'neurons': 10}\n",
      "0.911498 (0.002052) with: {'activation': 'relu', 'h_layers': 3, 'loss': 'categorical_crossentropy', 'neurons': 15}\n",
      "0.912223 (0.003699) with: {'activation': 'relu', 'h_layers': 3, 'loss': 'categorical_crossentropy', 'neurons': 20}\n",
      "nan (nan) with: {'activation': 'relu', 'h_layers': 3, 'loss': 'sparse_categorical_crossentropy', 'neurons': 8}\n",
      "nan (nan) with: {'activation': 'relu', 'h_layers': 3, 'loss': 'sparse_categorical_crossentropy', 'neurons': 10}\n",
      "nan (nan) with: {'activation': 'relu', 'h_layers': 3, 'loss': 'sparse_categorical_crossentropy', 'neurons': 15}\n",
      "nan (nan) with: {'activation': 'relu', 'h_layers': 3, 'loss': 'sparse_categorical_crossentropy', 'neurons': 20}\n",
      "0.915125 (0.004701) with: {'activation': 'relu', 'h_layers': 3, 'loss': 'kullback_leibler_divergence', 'neurons': 8}\n",
      "0.912223 (0.005712) with: {'activation': 'relu', 'h_layers': 3, 'loss': 'kullback_leibler_divergence', 'neurons': 10}\n",
      "0.911498 (0.003591) with: {'activation': 'relu', 'h_layers': 3, 'loss': 'kullback_leibler_divergence', 'neurons': 15}\n",
      "0.910773 (0.004701) with: {'activation': 'relu', 'h_layers': 3, 'loss': 'kullback_leibler_divergence', 'neurons': 20}\n",
      "0.908234 (0.004199) with: {'activation': 'sigmoid', 'h_layers': 2, 'loss': 'categorical_crossentropy', 'neurons': 8}\n",
      "0.910410 (0.002236) with: {'activation': 'sigmoid', 'h_layers': 2, 'loss': 'categorical_crossentropy', 'neurons': 10}\n",
      "0.908959 (0.004893) with: {'activation': 'sigmoid', 'h_layers': 2, 'loss': 'categorical_crossentropy', 'neurons': 15}\n",
      "0.910410 (0.003591) with: {'activation': 'sigmoid', 'h_layers': 2, 'loss': 'categorical_crossentropy', 'neurons': 20}\n",
      "nan (nan) with: {'activation': 'sigmoid', 'h_layers': 2, 'loss': 'sparse_categorical_crossentropy', 'neurons': 8}\n",
      "nan (nan) with: {'activation': 'sigmoid', 'h_layers': 2, 'loss': 'sparse_categorical_crossentropy', 'neurons': 10}\n",
      "nan (nan) with: {'activation': 'sigmoid', 'h_layers': 2, 'loss': 'sparse_categorical_crossentropy', 'neurons': 15}\n",
      "nan (nan) with: {'activation': 'sigmoid', 'h_layers': 2, 'loss': 'sparse_categorical_crossentropy', 'neurons': 20}\n",
      "0.910047 (0.004383) with: {'activation': 'sigmoid', 'h_layers': 2, 'loss': 'kullback_leibler_divergence', 'neurons': 8}\n",
      "0.909684 (0.002665) with: {'activation': 'sigmoid', 'h_layers': 2, 'loss': 'kullback_leibler_divergence', 'neurons': 10}\n",
      "0.910410 (0.004472) with: {'activation': 'sigmoid', 'h_layers': 2, 'loss': 'kullback_leibler_divergence', 'neurons': 15}\n",
      "0.911135 (0.001357) with: {'activation': 'sigmoid', 'h_layers': 2, 'loss': 'kullback_leibler_divergence', 'neurons': 20}\n",
      "0.909684 (0.004071) with: {'activation': 'sigmoid', 'h_layers': 3, 'loss': 'categorical_crossentropy', 'neurons': 8}\n",
      "0.910773 (0.004701) with: {'activation': 'sigmoid', 'h_layers': 3, 'loss': 'categorical_crossentropy', 'neurons': 10}\n",
      "0.909322 (0.005916) with: {'activation': 'sigmoid', 'h_layers': 3, 'loss': 'categorical_crossentropy', 'neurons': 15}\n",
      "0.909684 (0.005548) with: {'activation': 'sigmoid', 'h_layers': 3, 'loss': 'categorical_crossentropy', 'neurons': 20}\n",
      "nan (nan) with: {'activation': 'sigmoid', 'h_layers': 3, 'loss': 'sparse_categorical_crossentropy', 'neurons': 8}\n",
      "nan (nan) with: {'activation': 'sigmoid', 'h_layers': 3, 'loss': 'sparse_categorical_crossentropy', 'neurons': 10}\n",
      "nan (nan) with: {'activation': 'sigmoid', 'h_layers': 3, 'loss': 'sparse_categorical_crossentropy', 'neurons': 15}\n",
      "nan (nan) with: {'activation': 'sigmoid', 'h_layers': 3, 'loss': 'sparse_categorical_crossentropy', 'neurons': 20}\n",
      "0.909684 (0.004701) with: {'activation': 'sigmoid', 'h_layers': 3, 'loss': 'kullback_leibler_divergence', 'neurons': 8}\n",
      "0.911498 (0.005643) with: {'activation': 'sigmoid', 'h_layers': 3, 'loss': 'kullback_leibler_divergence', 'neurons': 10}\n",
      "0.910773 (0.002665) with: {'activation': 'sigmoid', 'h_layers': 3, 'loss': 'kullback_leibler_divergence', 'neurons': 15}\n",
      "0.908959 (0.004472) with: {'activation': 'sigmoid', 'h_layers': 3, 'loss': 'kullback_leibler_divergence', 'neurons': 20}\n"
     ]
    }
   ],
   "source": [
    "estimator = KerasClassifier(build_fn=model_build, epochs=250, batch_size=25, verbose=0)\n",
    "\n",
    "# define the grid search parameters\n",
    "activation = ['relu', 'sigmoid']\n",
    "neurons = [8, 10, 15, 20] \n",
    "h_layers = [2,3]\n",
    "loss_func = ['categorical_crossentropy', 'sparse_categorical_crossentropy', 'kullback_leibler_divergence']\n",
    "param_grid = dict(activation=activation, neurons=neurons, h_layers=h_layers, loss = loss_func)\n",
    "\n",
    "grid = GridSearchCV(estimator=estimator, param_grid=param_grid, n_jobs=1, cv=3)\n",
    "\n",
    "grid_result = grid.fit(X_train, y_train, validation_data = (X_test, y_test) , callbacks = [early_stop])\n",
    "\n",
    "# summarize results\n",
    "print(\"Best: %f using %s\" % (grid_result.best_score_, grid_result.best_params_))\n",
    "means = grid_result.cv_results_['mean_test_score']\n",
    "stds = grid_result.cv_results_['std_test_score']\n",
    "params = grid_result.cv_results_['params']\n",
    "for mean, stdev, param in zip(means, stds, params):\n",
    "    print(\"%f (%f) with: %r\" % (mean, stdev, param))"
   ]
  },
  {
   "cell_type": "markdown",
   "metadata": {},
   "source": [
    "### Train best model to get history"
   ]
  },
  {
   "cell_type": "code",
   "execution_count": 147,
   "metadata": {},
   "outputs": [],
   "source": [
    "best_par = grid_result.best_params_\n",
    "\n",
    "best_estimator = model_build(neurons = best_par['neurons'], h_layers = best_par['h_layers'], \n",
    "                           activation = best_par['activation'], loss = best_par['loss'])\n",
    "history = best_estimator.fit(X_train, y_train,\n",
    "                        validation_data=(X_test,y_test),callbacks = [early_stop], epochs = 200,  verbose = 0)"
   ]
  },
  {
   "cell_type": "code",
   "execution_count": 148,
   "metadata": {},
   "outputs": [
    {
     "data": {
      "text/plain": [
       "Text(0, 0.5, 'Categorical Cross Entropy')"
      ]
     },
     "execution_count": 148,
     "metadata": {},
     "output_type": "execute_result"
    },
    {
     "data": {
      "image/png": "[encoded data removed]",
      "text/plain": [
       "<Figure size 648x504 with 1 Axes>"
      ]
     },
     "metadata": {},
     "output_type": "display_data"
    }
   ],
   "source": [
    "plt.figure(figsize=(9,7))\n",
    "plt.plot(history.history['loss'], label='train')\n",
    "plt.plot(history.history['val_loss'], label='test')\n",
    "plt.legend()\n",
    "plt.xlabel('Epoch')\n",
    "plt.ylabel('Categorical Cross Entropy')\n"
   ]
  },
  {
   "cell_type": "code",
   "execution_count": 149,
   "metadata": {},
   "outputs": [
    {
     "data": {
      "text/plain": [
       "(0.85, 0.95)"
      ]
     },
     "execution_count": 149,
     "metadata": {},
     "output_type": "execute_result"
    },
    {
     "data": {
      "image/png": "[encoded data removed]",
      "text/plain": [
       "<Figure size 648x504 with 1 Axes>"
      ]
     },
     "metadata": {},
     "output_type": "display_data"
    }
   ],
   "source": [
    "plt.figure(figsize=(9,7))\n",
    "plt.plot(history.history['accuracy'], label='train')\n",
    "plt.plot(history.history['val_accuracy'], label='test')\n",
    "plt.legend()\n",
    "plt.xlabel('Epoch')\n",
    "plt.ylabel('Categorical Accuracy')\n",
    "plt.ylim(.85,.95)"
   ]
  },
  {
   "cell_type": "markdown",
   "metadata": {},
   "source": [
    "### Model Shape"
   ]
  },
  {
   "cell_type": "code",
   "execution_count": 150,
   "metadata": {},
   "outputs": [
    {
     "name": "stdout",
     "output_type": "stream",
     "text": [
      "Model: \"sequential_1721\"\n",
      "_________________________________________________________________\n",
      "Layer (type)                 Output Shape              Param #   \n",
      "=================================================================\n",
      "dense_4981 (Dense)           (None, 10)                190       \n",
      "_________________________________________________________________\n",
      "dense_4982 (Dense)           (None, 10)                110       \n",
      "_________________________________________________________________\n",
      "dense_4983 (Dense)           (None, 10)                110       \n",
      "_________________________________________________________________\n",
      "dense_4984 (Dense)           (None, 4)                 44        \n",
      "=================================================================\n",
      "Total params: 454\n",
      "Trainable params: 454\n",
      "Non-trainable params: 0\n",
      "_________________________________________________________________\n"
     ]
    }
   ],
   "source": [
    "best_estimator.summary()"
   ]
  },
  {
   "cell_type": "markdown",
   "metadata": {},
   "source": [
    "### Use model to predict All-NBA Teams for the 2019-20 Season"
   ]
  },
  {
   "cell_type": "code",
   "execution_count": 151,
   "metadata": {},
   "outputs": [],
   "source": [
    "df_2019 = nba_df[(nba_df.season == '2019-20') & (nba_df.ws > 3.4) & (nba_df.mp > 1000)][features].values\n",
    "X_2019 = scaler.transform(df_2019)\n",
    "prediction = best_estimator.predict_proba(X_2019)"
   ]
  },
  {
   "cell_type": "code",
   "execution_count": 152,
   "metadata": {},
   "outputs": [],
   "source": [
    "pred_df = pd.DataFrame(prediction, columns = ['1st', '2nd', '3rd', 'NA'])"
   ]
  },
  {
   "cell_type": "code",
   "execution_count": 154,
   "metadata": {},
   "outputs": [],
   "source": [
    "pred_df = pd.merge(nba_df[(nba_df.season == '2019-20') & (nba_df.ws > 3.4) & (nba_df.mp > 1000)] , pred_df, on = pred_df.index)"
   ]
  },
  {
   "cell_type": "code",
   "execution_count": 155,
   "metadata": {},
   "outputs": [
    {
     "data": {
      "text/html": [
       "<div>\n",
       "<style scoped>\n",
       "    .dataframe tbody tr th:only-of-type {\n",
       "        vertical-align: middle;\n",
       "    }\n",
       "\n",
       "    .dataframe tbody tr th {\n",
       "        vertical-align: top;\n",
       "    }\n",
       "\n",
       "    .dataframe thead th {\n",
       "        text-align: right;\n",
       "    }\n",
       "</style>\n",
       "<table border=\"1\" class=\"dataframe\">\n",
       "  <thead>\n",
       "    <tr style=\"text-align: right;\">\n",
       "      <th></th>\n",
       "      <th>key_0</th>\n",
       "      <th>player</th>\n",
       "      <th>age</th>\n",
       "      <th>tm</th>\n",
       "      <th>season_start</th>\n",
       "      <th>season</th>\n",
       "      <th>g</th>\n",
       "      <th>gs</th>\n",
       "      <th>mp</th>\n",
       "      <th>fg</th>\n",
       "      <th>...</th>\n",
       "      <th>stl/g</th>\n",
       "      <th>blk/g</th>\n",
       "      <th>tov/g</th>\n",
       "      <th>pf/g</th>\n",
       "      <th>pts/g</th>\n",
       "      <th>all_nba_team</th>\n",
       "      <th>1st</th>\n",
       "      <th>2nd</th>\n",
       "      <th>3rd</th>\n",
       "      <th>NA</th>\n",
       "    </tr>\n",
       "  </thead>\n",
       "  <tbody>\n",
       "    <tr>\n",
       "      <th>0</th>\n",
       "      <td>0</td>\n",
       "      <td>Steven Adams</td>\n",
       "      <td>26</td>\n",
       "      <td>OKC</td>\n",
       "      <td>2019</td>\n",
       "      <td>2019-20</td>\n",
       "      <td>58</td>\n",
       "      <td>58</td>\n",
       "      <td>1564</td>\n",
       "      <td>262</td>\n",
       "      <td>...</td>\n",
       "      <td>0.9</td>\n",
       "      <td>1.1</td>\n",
       "      <td>1.5</td>\n",
       "      <td>1.9</td>\n",
       "      <td>10.9</td>\n",
       "      <td>no</td>\n",
       "      <td>0.000304</td>\n",
       "      <td>0.000597</td>\n",
       "      <td>0.005187</td>\n",
       "      <td>0.993911</td>\n",
       "    </tr>\n",
       "    <tr>\n",
       "      <th>1</th>\n",
       "      <td>1</td>\n",
       "      <td>Bam Adebayo</td>\n",
       "      <td>22</td>\n",
       "      <td>MIA</td>\n",
       "      <td>2019</td>\n",
       "      <td>2019-20</td>\n",
       "      <td>65</td>\n",
       "      <td>65</td>\n",
       "      <td>2235</td>\n",
       "      <td>408</td>\n",
       "      <td>...</td>\n",
       "      <td>1.2</td>\n",
       "      <td>1.3</td>\n",
       "      <td>2.8</td>\n",
       "      <td>2.5</td>\n",
       "      <td>16.2</td>\n",
       "      <td>no</td>\n",
       "      <td>0.038363</td>\n",
       "      <td>0.090191</td>\n",
       "      <td>0.186369</td>\n",
       "      <td>0.685076</td>\n",
       "    </tr>\n",
       "    <tr>\n",
       "      <th>2</th>\n",
       "      <td>2</td>\n",
       "      <td>LaMarcus Aldridge</td>\n",
       "      <td>34</td>\n",
       "      <td>SAS</td>\n",
       "      <td>2019</td>\n",
       "      <td>2019-20</td>\n",
       "      <td>53</td>\n",
       "      <td>53</td>\n",
       "      <td>1754</td>\n",
       "      <td>391</td>\n",
       "      <td>...</td>\n",
       "      <td>0.7</td>\n",
       "      <td>1.6</td>\n",
       "      <td>1.4</td>\n",
       "      <td>2.4</td>\n",
       "      <td>18.9</td>\n",
       "      <td>no</td>\n",
       "      <td>0.002112</td>\n",
       "      <td>0.004308</td>\n",
       "      <td>0.020811</td>\n",
       "      <td>0.972770</td>\n",
       "    </tr>\n",
       "    <tr>\n",
       "      <th>3</th>\n",
       "      <td>3</td>\n",
       "      <td>Jarrett Allen</td>\n",
       "      <td>21</td>\n",
       "      <td>BRK</td>\n",
       "      <td>2019</td>\n",
       "      <td>2019-20</td>\n",
       "      <td>64</td>\n",
       "      <td>58</td>\n",
       "      <td>1647</td>\n",
       "      <td>267</td>\n",
       "      <td>...</td>\n",
       "      <td>0.6</td>\n",
       "      <td>1.3</td>\n",
       "      <td>1.1</td>\n",
       "      <td>2.2</td>\n",
       "      <td>10.6</td>\n",
       "      <td>no</td>\n",
       "      <td>0.000148</td>\n",
       "      <td>0.000290</td>\n",
       "      <td>0.003173</td>\n",
       "      <td>0.996390</td>\n",
       "    </tr>\n",
       "    <tr>\n",
       "      <th>4</th>\n",
       "      <td>4</td>\n",
       "      <td>Giannis Antetokounmpo</td>\n",
       "      <td>25</td>\n",
       "      <td>MIL</td>\n",
       "      <td>2019</td>\n",
       "      <td>2019-20</td>\n",
       "      <td>57</td>\n",
       "      <td>57</td>\n",
       "      <td>1763</td>\n",
       "      <td>623</td>\n",
       "      <td>...</td>\n",
       "      <td>1.0</td>\n",
       "      <td>1.0</td>\n",
       "      <td>3.7</td>\n",
       "      <td>3.0</td>\n",
       "      <td>29.6</td>\n",
       "      <td>no</td>\n",
       "      <td>0.827090</td>\n",
       "      <td>0.134337</td>\n",
       "      <td>0.030738</td>\n",
       "      <td>0.007835</td>\n",
       "    </tr>\n",
       "  </tbody>\n",
       "</table>\n",
       "<p>5 rows × 74 columns</p>\n",
       "</div>"
      ],
      "text/plain": [
       "   key_0                 player  age   tm  season_start   season   g  gs  \\\n",
       "0      0           Steven Adams   26  OKC          2019  2019-20  58  58   \n",
       "1      1            Bam Adebayo   22  MIA          2019  2019-20  65  65   \n",
       "2      2      LaMarcus Aldridge   34  SAS          2019  2019-20  53  53   \n",
       "3      3          Jarrett Allen   21  BRK          2019  2019-20  64  58   \n",
       "4      4  Giannis Antetokounmpo   25  MIL          2019  2019-20  57  57   \n",
       "\n",
       "     mp   fg  ...  stl/g  blk/g  tov/g  pf/g  pts/g  all_nba_team       1st  \\\n",
       "0  1564  262  ...    0.9    1.1    1.5   1.9   10.9            no  0.000304   \n",
       "1  2235  408  ...    1.2    1.3    2.8   2.5   16.2            no  0.038363   \n",
       "2  1754  391  ...    0.7    1.6    1.4   2.4   18.9            no  0.002112   \n",
       "3  1647  267  ...    0.6    1.3    1.1   2.2   10.6            no  0.000148   \n",
       "4  1763  623  ...    1.0    1.0    3.7   3.0   29.6            no  0.827090   \n",
       "\n",
       "        2nd       3rd        NA  \n",
       "0  0.000597  0.005187  0.993911  \n",
       "1  0.090191  0.186369  0.685076  \n",
       "2  0.004308  0.020811  0.972770  \n",
       "3  0.000290  0.003173  0.996390  \n",
       "4  0.134337  0.030738  0.007835  \n",
       "\n",
       "[5 rows x 74 columns]"
      ]
     },
     "execution_count": 155,
     "metadata": {},
     "output_type": "execute_result"
    }
   ],
   "source": [
    "pred_df.head()"
   ]
  },
  {
   "cell_type": "markdown",
   "metadata": {},
   "source": [
    "### Tabulate votes based on weights"
   ]
  },
  {
   "cell_type": "code",
   "execution_count": 157,
   "metadata": {},
   "outputs": [],
   "source": [
    "pred_df['tabulate'] = pred_df['1st']*5.0 + pred_df['2nd']*3.0 + pred_df['3rd']*1.0"
   ]
  },
  {
   "cell_type": "markdown",
   "metadata": {},
   "source": [
    "##  ALL-NBA First Team"
   ]
  },
  {
   "cell_type": "code",
   "execution_count": 163,
   "metadata": {},
   "outputs": [
    {
     "data": {
      "text/html": [
       "<div>\n",
       "<style scoped>\n",
       "    .dataframe tbody tr th:only-of-type {\n",
       "        vertical-align: middle;\n",
       "    }\n",
       "\n",
       "    .dataframe tbody tr th {\n",
       "        vertical-align: top;\n",
       "    }\n",
       "\n",
       "    .dataframe thead th {\n",
       "        text-align: right;\n",
       "    }\n",
       "</style>\n",
       "<table border=\"1\" class=\"dataframe\">\n",
       "  <thead>\n",
       "    <tr style=\"text-align: right;\">\n",
       "      <th></th>\n",
       "      <th>player</th>\n",
       "      <th>1st</th>\n",
       "      <th>2nd</th>\n",
       "      <th>3rd</th>\n",
       "      <th>tabulate</th>\n",
       "    </tr>\n",
       "  </thead>\n",
       "  <tbody>\n",
       "    <tr>\n",
       "      <th>4</th>\n",
       "      <td>Giannis Antetokounmpo</td>\n",
       "      <td>0.827090</td>\n",
       "      <td>0.134337</td>\n",
       "      <td>0.030738</td>\n",
       "      <td>4.569197</td>\n",
       "    </tr>\n",
       "    <tr>\n",
       "      <th>41</th>\n",
       "      <td>James Harden</td>\n",
       "      <td>0.776187</td>\n",
       "      <td>0.142429</td>\n",
       "      <td>0.061115</td>\n",
       "      <td>4.369339</td>\n",
       "    </tr>\n",
       "    <tr>\n",
       "      <th>56</th>\n",
       "      <td>LeBron James</td>\n",
       "      <td>0.478667</td>\n",
       "      <td>0.430230</td>\n",
       "      <td>0.063873</td>\n",
       "      <td>3.747899</td>\n",
       "    </tr>\n",
       "    <tr>\n",
       "      <th>28</th>\n",
       "      <td>Luka Dončić</td>\n",
       "      <td>0.418408</td>\n",
       "      <td>0.446813</td>\n",
       "      <td>0.092463</td>\n",
       "      <td>3.524943</td>\n",
       "    </tr>\n",
       "    <tr>\n",
       "      <th>63</th>\n",
       "      <td>Damian Lillard</td>\n",
       "      <td>0.378726</td>\n",
       "      <td>0.429569</td>\n",
       "      <td>0.121518</td>\n",
       "      <td>3.303858</td>\n",
       "    </tr>\n",
       "  </tbody>\n",
       "</table>\n",
       "</div>"
      ],
      "text/plain": [
       "                   player       1st       2nd       3rd  tabulate\n",
       "4   Giannis Antetokounmpo  0.827090  0.134337  0.030738  4.569197\n",
       "41           James Harden  0.776187  0.142429  0.061115  4.369339\n",
       "56           LeBron James  0.478667  0.430230  0.063873  3.747899\n",
       "28            Luka Dončić  0.418408  0.446813  0.092463  3.524943\n",
       "63         Damian Lillard  0.378726  0.429569  0.121518  3.303858"
      ]
     },
     "execution_count": 163,
     "metadata": {},
     "output_type": "execute_result"
    }
   ],
   "source": [
    "pred_df[['player', '1st', '2nd', '3rd','tabulate']].sort_values(by = 'tabulate', ascending = False)[0:5]"
   ]
  },
  {
   "cell_type": "markdown",
   "metadata": {},
   "source": [
    "##  ALL-NBA Second Team"
   ]
  },
  {
   "cell_type": "code",
   "execution_count": 165,
   "metadata": {},
   "outputs": [
    {
     "data": {
      "text/html": [
       "<div>\n",
       "<style scoped>\n",
       "    .dataframe tbody tr th:only-of-type {\n",
       "        vertical-align: middle;\n",
       "    }\n",
       "\n",
       "    .dataframe tbody tr th {\n",
       "        vertical-align: top;\n",
       "    }\n",
       "\n",
       "    .dataframe thead th {\n",
       "        text-align: right;\n",
       "    }\n",
       "</style>\n",
       "<table border=\"1\" class=\"dataframe\">\n",
       "  <thead>\n",
       "    <tr style=\"text-align: right;\">\n",
       "      <th></th>\n",
       "      <th>player</th>\n",
       "      <th>1st</th>\n",
       "      <th>2nd</th>\n",
       "      <th>3rd</th>\n",
       "      <th>tabulate</th>\n",
       "    </tr>\n",
       "  </thead>\n",
       "  <tbody>\n",
       "    <tr>\n",
       "      <th>24</th>\n",
       "      <td>Anthony Davis</td>\n",
       "      <td>0.408385</td>\n",
       "      <td>0.315037</td>\n",
       "      <td>0.176640</td>\n",
       "      <td>3.163673</td>\n",
       "    </tr>\n",
       "    <tr>\n",
       "      <th>57</th>\n",
       "      <td>Nikola Jokić</td>\n",
       "      <td>0.234764</td>\n",
       "      <td>0.353652</td>\n",
       "      <td>0.209420</td>\n",
       "      <td>2.444193</td>\n",
       "    </tr>\n",
       "    <tr>\n",
       "      <th>62</th>\n",
       "      <td>Kawhi Leonard</td>\n",
       "      <td>0.182153</td>\n",
       "      <td>0.292759</td>\n",
       "      <td>0.213931</td>\n",
       "      <td>2.002972</td>\n",
       "    </tr>\n",
       "    <tr>\n",
       "      <th>105</th>\n",
       "      <td>Trae Young</td>\n",
       "      <td>0.140110</td>\n",
       "      <td>0.237839</td>\n",
       "      <td>0.200773</td>\n",
       "      <td>1.614839</td>\n",
       "    </tr>\n",
       "    <tr>\n",
       "      <th>100</th>\n",
       "      <td>Russell Westbrook</td>\n",
       "      <td>0.106862</td>\n",
       "      <td>0.200377</td>\n",
       "      <td>0.215635</td>\n",
       "      <td>1.351074</td>\n",
       "    </tr>\n",
       "  </tbody>\n",
       "</table>\n",
       "</div>"
      ],
      "text/plain": [
       "                player       1st       2nd       3rd  tabulate\n",
       "24       Anthony Davis  0.408385  0.315037  0.176640  3.163673\n",
       "57        Nikola Jokić  0.234764  0.353652  0.209420  2.444193\n",
       "62       Kawhi Leonard  0.182153  0.292759  0.213931  2.002972\n",
       "105         Trae Young  0.140110  0.237839  0.200773  1.614839\n",
       "100  Russell Westbrook  0.106862  0.200377  0.215635  1.351074"
      ]
     },
     "execution_count": 165,
     "metadata": {},
     "output_type": "execute_result"
    }
   ],
   "source": [
    "pred_df[['player', '1st', '2nd', '3rd','tabulate']].sort_values(by = 'tabulate', ascending = False)[5:10]"
   ]
  },
  {
   "cell_type": "markdown",
   "metadata": {},
   "source": [
    "##  ALL-NBA Third Team"
   ]
  },
  {
   "cell_type": "code",
   "execution_count": 164,
   "metadata": {},
   "outputs": [
    {
     "data": {
      "text/html": [
       "<div>\n",
       "<style scoped>\n",
       "    .dataframe tbody tr th:only-of-type {\n",
       "        vertical-align: middle;\n",
       "    }\n",
       "\n",
       "    .dataframe tbody tr th {\n",
       "        vertical-align: top;\n",
       "    }\n",
       "\n",
       "    .dataframe thead th {\n",
       "        text-align: right;\n",
       "    }\n",
       "</style>\n",
       "<table border=\"1\" class=\"dataframe\">\n",
       "  <thead>\n",
       "    <tr style=\"text-align: right;\">\n",
       "      <th></th>\n",
       "      <th>player</th>\n",
       "      <th>1st</th>\n",
       "      <th>2nd</th>\n",
       "      <th>3rd</th>\n",
       "      <th>tabulate</th>\n",
       "    </tr>\n",
       "  </thead>\n",
       "  <tbody>\n",
       "    <tr>\n",
       "      <th>17</th>\n",
       "      <td>Jimmy Butler</td>\n",
       "      <td>0.082131</td>\n",
       "      <td>0.166444</td>\n",
       "      <td>0.206421</td>\n",
       "      <td>1.116405</td>\n",
       "    </tr>\n",
       "    <tr>\n",
       "      <th>30</th>\n",
       "      <td>Joel Embiid</td>\n",
       "      <td>0.075678</td>\n",
       "      <td>0.155960</td>\n",
       "      <td>0.220753</td>\n",
       "      <td>1.067021</td>\n",
       "    </tr>\n",
       "    <tr>\n",
       "      <th>8</th>\n",
       "      <td>Bradley Beal</td>\n",
       "      <td>0.067582</td>\n",
       "      <td>0.135256</td>\n",
       "      <td>0.184895</td>\n",
       "      <td>0.928574</td>\n",
       "    </tr>\n",
       "    <tr>\n",
       "      <th>84</th>\n",
       "      <td>Domantas Sabonis</td>\n",
       "      <td>0.051359</td>\n",
       "      <td>0.123249</td>\n",
       "      <td>0.230083</td>\n",
       "      <td>0.856621</td>\n",
       "    </tr>\n",
       "    <tr>\n",
       "      <th>101</th>\n",
       "      <td>Hassan Whiteside</td>\n",
       "      <td>0.041325</td>\n",
       "      <td>0.102977</td>\n",
       "      <td>0.233173</td>\n",
       "      <td>0.748726</td>\n",
       "    </tr>\n",
       "  </tbody>\n",
       "</table>\n",
       "</div>"
      ],
      "text/plain": [
       "               player       1st       2nd       3rd  tabulate\n",
       "17       Jimmy Butler  0.082131  0.166444  0.206421  1.116405\n",
       "30        Joel Embiid  0.075678  0.155960  0.220753  1.067021\n",
       "8        Bradley Beal  0.067582  0.135256  0.184895  0.928574\n",
       "84   Domantas Sabonis  0.051359  0.123249  0.230083  0.856621\n",
       "101  Hassan Whiteside  0.041325  0.102977  0.233173  0.748726"
      ]
     },
     "execution_count": 164,
     "metadata": {},
     "output_type": "execute_result"
    }
   ],
   "source": [
    "pred_df[['player', '1st', '2nd', '3rd','tabulate']].sort_values(by = 'tabulate', ascending = False)[10:15]"
   ]
  },
  {
   "cell_type": "code",
   "execution_count": 168,
   "metadata": {},
   "outputs": [],
   "source": [
    "pred_df[['player', '1st', '2nd', '3rd','NA','tabulate']].sort_values(by = 'tabulate', ascending = False).to_csv(r'All-NBA Votes.csv',index = False, )"
   ]
  }
 ],
 "metadata": {
  "kernelspec": {
   "display_name": "Python 3",
   "language": "python",
   "name": "python3"
  },
  "language_info": {
   "codemirror_mode": {
    "name": "ipython",
    "version": 3
   },
   "file_extension": ".py",
   "mimetype": "text/x-python",
   "name": "python",
   "nbconvert_exporter": "python",
   "pygments_lexer": "ipython3",
   "version": "3.7.4"
  }
 },
 "nbformat": 4,
 "nbformat_minor": 4
}
